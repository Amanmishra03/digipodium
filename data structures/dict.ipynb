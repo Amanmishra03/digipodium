{
 "cells": [
  {
   "cell_type": "code",
   "execution_count": 2,
   "metadata": {},
   "outputs": [],
   "source": [
    "x = ['xuv','500','up320001','mahindra','diesel',True,True,False]"
   ]
  },
  {
   "cell_type": "code",
   "execution_count": 3,
   "metadata": {},
   "outputs": [],
   "source": [
    "x = {\n",
    "    'brand': \"mahindra\",\n",
    "    'model': \"xuv\",\n",
    "    'series': \"500\",\n",
    "    'type': \"diesel\",\n",
    "    \"fuel capacity\": \"30\",\n",
    "    'mileage': \"10\",\n",
    "    'color': \"white\",\n",
    "    'is_4wd': True,\n",
    "    'colors' : ['red','white','black']\n",
    "}"
   ]
  },
  {
   "cell_type": "code",
   "execution_count": 4,
   "metadata": {},
   "outputs": [],
   "source": [
    "info = {} # empty dictionary"
   ]
  },
  {
   "cell_type": "markdown",
   "metadata": {},
   "source": [
    "- add items\n",
    "- update items\n",
    "- remove items\n",
    "- traverse item"
   ]
  },
  {
   "cell_type": "markdown",
   "metadata": {},
   "source": [
    "how to add data\n",
    "\n",
    "dict['new_key' ] = new_value"
   ]
  },
  {
   "cell_type": "code",
   "execution_count": 5,
   "metadata": {},
   "outputs": [
    {
     "data": {
      "text/plain": [
       "{'first_name': 'Henry'}"
      ]
     },
     "execution_count": 5,
     "metadata": {},
     "output_type": "execute_result"
    }
   ],
   "source": [
    "info['first_name'] = \"Henry\"\n",
    "info"
   ]
  },
  {
   "cell_type": "code",
   "execution_count": 6,
   "metadata": {},
   "outputs": [
    {
     "name": "stdout",
     "output_type": "stream",
     "text": [
      "{'first_name': 'Henry', 'last_name': 'sugar', 'age': 45, 'city': 'new york'}\n"
     ]
    }
   ],
   "source": [
    "info['last_name'] = \"sugar\"\n",
    "info['age'] = 45\n",
    "info['city'] = \"new york\"\n",
    "print(info)"
   ]
  },
  {
   "cell_type": "markdown",
   "metadata": {},
   "source": [
    "how to update data\n",
    "\n",
    "dict['existing_key'] = new_value\n"
   ]
  },
  {
   "cell_type": "code",
   "execution_count": 7,
   "metadata": {},
   "outputs": [
    {
     "name": "stdout",
     "output_type": "stream",
     "text": [
      "{'first_name': 'Henry', 'last_name': 'sugar', 'age': 45, 'city': 'London'}\n"
     ]
    }
   ],
   "source": [
    "info['city'] = \"London\"\n",
    "print(info)"
   ]
  },
  {
   "cell_type": "markdown",
   "metadata": {},
   "source": [
    "how to remove data\n",
    "\n",
    "dict.pop('existing_key')"
   ]
  },
  {
   "cell_type": "code",
   "execution_count": 8,
   "metadata": {},
   "outputs": [
    {
     "data": {
      "text/plain": [
       "{'first_name': 'Henry', 'last_name': 'sugar', 'city': 'London'}"
      ]
     },
     "execution_count": 8,
     "metadata": {},
     "output_type": "execute_result"
    }
   ],
   "source": [
    "info.pop('age')\n",
    "info"
   ]
  },
  {
   "cell_type": "markdown",
   "metadata": {},
   "source": [
    "extract keys and values\n",
    "\n",
    "- dict.keys()\n",
    "- dict.values()\n",
    "- dict.items()\n",
    "\n"
   ]
  },
  {
   "cell_type": "code",
   "execution_count": 9,
   "metadata": {},
   "outputs": [
    {
     "data": {
      "text/plain": [
       "dict_keys(['first_name', 'last_name', 'city'])"
      ]
     },
     "execution_count": 9,
     "metadata": {},
     "output_type": "execute_result"
    }
   ],
   "source": [
    "info.keys()"
   ]
  },
  {
   "cell_type": "code",
   "execution_count": 10,
   "metadata": {},
   "outputs": [
    {
     "data": {
      "text/plain": [
       "dict_values(['Henry', 'sugar', 'London'])"
      ]
     },
     "execution_count": 10,
     "metadata": {},
     "output_type": "execute_result"
    }
   ],
   "source": [
    "info.values()"
   ]
  },
  {
   "cell_type": "code",
   "execution_count": 12,
   "metadata": {},
   "outputs": [
    {
     "data": {
      "text/plain": [
       "dict_items([('first_name', 'Henry'), ('last_name', 'sugar'), ('city', 'London')])"
      ]
     },
     "execution_count": 12,
     "metadata": {},
     "output_type": "execute_result"
    }
   ],
   "source": [
    "info.items()"
   ]
  },
  {
   "cell_type": "markdown",
   "metadata": {},
   "source": [
    "fetch data from dict\n",
    "\n",
    "* dict['key']   # throws error if key does not exist\n",
    "\n",
    "* dict.get('key')   # returns None if key does not exist"
   ]
  },
  {
   "cell_type": "code",
   "execution_count": 13,
   "metadata": {},
   "outputs": [
    {
     "data": {
      "text/plain": [
       "'mahindra'"
      ]
     },
     "execution_count": 13,
     "metadata": {},
     "output_type": "execute_result"
    }
   ],
   "source": [
    "x['brand']"
   ]
  },
  {
   "cell_type": "code",
   "execution_count": 14,
   "metadata": {},
   "outputs": [
    {
     "name": "stdout",
     "output_type": "stream",
     "text": [
      "10\n",
      "['red', 'white', 'black']\n"
     ]
    }
   ],
   "source": [
    "print(x['mileage'])\n",
    "print(x['colors'])"
   ]
  },
  {
   "cell_type": "code",
   "execution_count": 15,
   "metadata": {},
   "outputs": [
    {
     "name": "stdout",
     "output_type": "stream",
     "text": [
      "mahindra\n",
      "xuv\n",
      "['red', 'white', 'black']\n",
      "None\n"
     ]
    }
   ],
   "source": [
    "print(x.get('brand'))\n",
    "print(x.get('model'))\n",
    "print(x.get('colors'))\n",
    "print(x.get('price'))\n"
   ]
  },
  {
   "cell_type": "markdown",
   "metadata": {},
   "source": [
    "traversing a dict"
   ]
  },
  {
   "cell_type": "code",
   "execution_count": 16,
   "metadata": {},
   "outputs": [
    {
     "name": "stdout",
     "output_type": "stream",
     "text": [
      "brand\n",
      "model\n",
      "series\n",
      "type\n",
      "fuel capacity\n",
      "mileage\n",
      "color\n",
      "is_4wd\n",
      "colors\n"
     ]
    }
   ],
   "source": [
    "for i in x:\n",
    "    print(i)  # print keys"
   ]
  },
  {
   "cell_type": "code",
   "execution_count": null,
   "metadata": {},
   "outputs": [],
   "source": [
    "for i in x:\n",
    "    print(x[i])  # print values"
   ]
  },
  {
   "cell_type": "code",
   "execution_count": null,
   "metadata": {},
   "outputs": [],
   "source": [
    "for i in x:\n",
    "    print(i, x[i])  # print key and value"
   ]
  },
  {
   "cell_type": "code",
   "execution_count": null,
   "metadata": {},
   "outputs": [],
   "source": [
    "# best way to iterate over a dict\n",
    "for k, v in x.items():\n",
    "    print(k,'-->',v)"
   ]
  },
  {
   "cell_type": "code",
   "execution_count": null,
   "metadata": {},
   "outputs": [],
   "source": [
    "data = {\n",
    "    \"sol_keys\": [],\n",
    "    \"validity_checks\": {\n",
    "        \"1219\": {\n",
    "            \"AT\": {\n",
    "                \"sol_hours_with_data\": [\n",
    "                    6,\n",
    "                    7,\n",
    "                    8,\n",
    "                    9,\n",
    "                    10,\n",
    "                    11,\n",
    "                    12\n",
    "                ],\n",
    "                \"valid\": False\n",
    "            },\n",
    "            \"HWS\": {\n",
    "                \"sol_hours_with_data\": [\n",
    "                    6,\n",
    "                    7,\n",
    "                    8,\n",
    "                    9,\n",
    "                    10,\n",
    "                    11,\n",
    "                    12\n",
    "                ],\n",
    "                \"valid\": False\n",
    "            },\n",
    "            \"PRE\": {\n",
    "                \"sol_hours_with_data\": [\n",
    "                    6,\n",
    "                    7,\n",
    "                    8,\n",
    "                    9,\n",
    "                    10,\n",
    "                    11,\n",
    "                    12\n",
    "                ],\n",
    "                \"valid\": False\n",
    "            },\n",
    "            \"WD\": {\n",
    "                \"sol_hours_with_data\": [\n",
    "                    6,\n",
    "                    7,\n",
    "                    8,\n",
    "                    9,\n",
    "                    10,\n",
    "                    11,\n",
    "                    12\n",
    "                ],\n",
    "                \"valid\": False\n",
    "            }\n",
    "        },\n",
    "        \"sol_hours_required\": 18,\n",
    "        \"sols_checked\": [\n",
    "            \"1219\"\n",
    "        ]\n",
    "    }\n",
    "}"
   ]
  },
  {
   "cell_type": "code",
   "execution_count": null,
   "metadata": {},
   "outputs": [],
   "source": [
    "data"
   ]
  },
  {
   "cell_type": "code",
   "execution_count": null,
   "metadata": {},
   "outputs": [],
   "source": [
    "for k,v in data.items():\n",
    "    print(k, '-->',v)\n",
    "    if isinstance(v,dict):\n",
    "        for k1,v1 in v.items():\n",
    "            print(k1, '-->',v1)\n",
    "        if isinstance(v1,dict):\n",
    "            for k2, v2 in v1.items():\n",
    "                print(k2,v2)"
   ]
  },
  {
   "cell_type": "code",
   "execution_count": null,
   "metadata": {},
   "outputs": [],
   "source": [
    "#  recursive function\n",
    "def extract(d):\n",
    "    for k, v in d.items():\n",
    "        print(f\"- {k}\")\n",
    "        if isinstance(v , dict):\n",
    "            extract(v)\n",
    "        else:\n",
    "            print('\\t', v)\n",
    "\n",
    "extract(data)"
   ]
  },
  {
   "cell_type": "markdown",
   "metadata": {},
   "source": [
    "dict Q no. 3"
   ]
  },
  {
   "cell_type": "code",
   "execution_count": null,
   "metadata": {},
   "outputs": [],
   "source": [
    "x = {\"a\":10, \"b\":5, \"c\":12}\n",
    "sorted(x.items())\n",
    "sorted(x.items (), key=lambda i: i[1])[-1][0]"
   ]
  },
  {
   "cell_type": "markdown",
   "metadata": {},
   "source": [
    "Question no. 17"
   ]
  },
  {
   "cell_type": "code",
   "execution_count": null,
   "metadata": {},
   "outputs": [],
   "source": [
    "x = {\"a\":1,\"b\":{\"c\":2,\"d\":3,},\"e\":4,\"f\":{\"g\":5,\"h\":{\"i\":6,\"j\":7}}}\n",
    "\n",
    "def extract_dict_to_list(d):\n",
    "    dlist = []\n",
    "    for k,v in d.items():\n",
    "        if isinstance(v,dict):\n",
    "            ans = extract_dict_to_list\n",
    "    "
   ]
  }
 ],
 "metadata": {
  "kernelspec": {
   "display_name": "base",
   "language": "python",
   "name": "python3"
  },
  "language_info": {
   "codemirror_mode": {
    "name": "ipython",
    "version": 3
   },
   "file_extension": ".py",
   "mimetype": "text/x-python",
   "name": "python",
   "nbconvert_exporter": "python",
   "pygments_lexer": "ipython3",
   "version": "3.11.5"
  },
  "orig_nbformat": 4
 },
 "nbformat": 4,
 "nbformat_minor": 2
}
