{
 "cells": [
  {
   "cell_type": "markdown",
   "metadata": {},
   "source": [
    "List\n",
    "- create\n",
    "- indexing and slicing\n",
    "- methods\n",
    "- basic operations"
   ]
  },
  {
   "cell_type": "code",
   "execution_count": null,
   "metadata": {},
   "outputs": [],
   "source": [
    "x = []  # empty list\n",
    "a = [1,2,3,4,5]\n",
    "b = ['alex', 'alexa', 'alexis']\n",
    "c = ['alex', 12, 'alexa', 15, 'alexis', 10]\n",
    "d = [[1,2,3],[1,2],[2,3,4,4]]\n",
    "e = [[1,2,3],[2,3,4],[3,4,5]]"
   ]
  },
  {
   "cell_type": "code",
   "execution_count": null,
   "metadata": {},
   "outputs": [],
   "source": [
    "w = [1] * 10  # list duplication (repetition)\n",
    "print(w)\n",
    "\n",
    "w2 = [1,2,3] * 3  # list duplication (repetition)\n",
    "print(w2)"
   ]
  },
  {
   "cell_type": "code",
   "execution_count": null,
   "metadata": {},
   "outputs": [],
   "source": [
    "a = [1,2,3]\n",
    "b = [4,5,6]\n",
    "c = a+b # list concatenation\n",
    "print(c)\n",
    "\n",
    "d = [a,b]  # nested list\n",
    "print(d)"
   ]
  },
  {
   "cell_type": "code",
   "execution_count": null,
   "metadata": {},
   "outputs": [],
   "source": [
    "x = [1,2,3,4,5,6,7,8,9,10]\n",
    "print(x[:3])\n",
    "print(x[:-4])\n",
    "print(x[3:-3])\n",
    "\n",
    "print(x)\n",
    "print(x[::-1])  # reverse element\n",
    "print(x[::2])   # all element with even indexed\n",
    "print(x[1::2])  # all element with odd indexed\n"
   ]
  },
  {
   "cell_type": "code",
   "execution_count": null,
   "metadata": {},
   "outputs": [],
   "source": [
    "print(x[0])  # first element\n",
    "print(x[-1])  # last element\n"
   ]
  },
  {
   "cell_type": "code",
   "execution_count": null,
   "metadata": {},
   "outputs": [],
   "source": [
    "# traversal \n",
    "for i in x:\n",
    "    print(i, end=' ')"
   ]
  },
  {
   "cell_type": "markdown",
   "metadata": {},
   "source": [
    "methods\n",
    "- add\n",
    "  - append\n",
    "  - extend\n",
    "  - insert\n",
    "- remove\n",
    "  - remove \n",
    "  - pop\n",
    "  - clear\n",
    "- helper\n",
    "  - index\n",
    "  - count\n",
    "  - sort\n",
    "  - reverse\n",
    "  - copy"
   ]
  },
  {
   "cell_type": "code",
   "execution_count": null,
   "metadata": {},
   "outputs": [],
   "source": [
    "books = []\n",
    "books.append(\"The final empire\")\n",
    "books.append(\"THE WELL of ascension\")\n",
    "books.append(\"The hero of ages\")\n",
    "books.append(\"warbreaker\")\n",
    "\n",
    "print(books)"
   ]
  },
  {
   "cell_type": "code",
   "execution_count": null,
   "metadata": {},
   "outputs": [],
   "source": [
    "books.insert(1, 'The way of king')\n",
    "books.insert(4, 'war of a radiance')\n",
    "print(books)\n"
   ]
  },
  {
   "cell_type": "code",
   "execution_count": null,
   "metadata": {},
   "outputs": [],
   "source": [
    "crappy_books = [\n",
    "    'Twilight saga: new moon',\n",
    "    'Twilight saga: eclipse',\n",
    "    'the wheel of time',\n",
    "    'the great hunt'\n",
    "]\n",
    "print(crappy_books)"
   ]
  },
  {
   "cell_type": "code",
   "execution_count": null,
   "metadata": {},
   "outputs": [],
   "source": [
    "books.extend(crappy_books)\n",
    "print(books)"
   ]
  },
  {
   "cell_type": "code",
   "execution_count": null,
   "metadata": {},
   "outputs": [],
   "source": [
    "num = [1,2,3]\n",
    "more_num = [4,5,6,7]\n",
    "num.extend(more_num)\n",
    "print(num)"
   ]
  },
  {
   "cell_type": "code",
   "execution_count": null,
   "metadata": {},
   "outputs": [],
   "source": [
    "num_matrix = [num, num, num]\n",
    "print(num_matrix)"
   ]
  },
  {
   "cell_type": "code",
   "execution_count": null,
   "metadata": {},
   "outputs": [],
   "source": [
    "all_num = num + more_num\n",
    "print(all_num)"
   ]
  },
  {
   "cell_type": "code",
   "execution_count": null,
   "metadata": {},
   "outputs": [],
   "source": [
    "user = []\n",
    "use = input('enter some number ')\n",
    "for user in use:\n",
    "    print(user)\n",
    "    \n",
    "print(user.append(user))"
   ]
  },
  {
   "cell_type": "code",
   "execution_count": null,
   "metadata": {},
   "outputs": [],
   "source": [
    "a = []\n",
    "for i in range(5):\n",
    "    x = input('enter some data ')\n",
    "    a.append(x)\n",
    "print(a)"
   ]
  },
  {
   "cell_type": "code",
   "execution_count": null,
   "metadata": {},
   "outputs": [],
   "source": [
    "# user = []\n",
    "users = input('enter no ')\n",
    "for user in users:\n",
    "    print(user,end=' ')\n",
    "    print()"
   ]
  },
  {
   "cell_type": "code",
   "execution_count": null,
   "metadata": {},
   "outputs": [],
   "source": [
    "b = []\n",
    "for i in range (5):\n",
    "    y = int(input('enter a number '))\n",
    "    \n",
    "    l = sum(y)\n",
    "    b.append(y)\n",
    "print(b)"
   ]
  },
  {
   "cell_type": "code",
   "execution_count": null,
   "metadata": {},
   "outputs": [],
   "source": [
    "x = []\n",
    "total = 0\n",
    "for i in range(5):\n",
    "    a = int(input(\"koi no. bhare \"))\n",
    "    x.append(a)\n",
    "print(f'total: {sum(x)}')"
   ]
  },
  {
   "cell_type": "code",
   "execution_count": null,
   "metadata": {},
   "outputs": [],
   "source": [
    "books.remove('THE WELL of ascension')"
   ]
  },
  {
   "cell_type": "code",
   "execution_count": null,
   "metadata": {},
   "outputs": [],
   "source": [
    "books.remove('war of a radiance')\n",
    "print(books)"
   ]
  },
  {
   "cell_type": "code",
   "execution_count": null,
   "metadata": {},
   "outputs": [],
   "source": [
    "books"
   ]
  },
  {
   "cell_type": "code",
   "execution_count": null,
   "metadata": {},
   "outputs": [],
   "source": [
    "val_to_remove = \"warbreaker\"\n",
    "if val_to_remove in books:\n",
    "    books.remove(val_to_remove)\n",
    "    print(f\"✅ {val_to_remove} remove from remove \")\n",
    "else:\n",
    "    print(f\"❌ {val_to_remove} not found in list\")"
   ]
  },
  {
   "cell_type": "code",
   "execution_count": null,
   "metadata": {},
   "outputs": [],
   "source": [
    "def safe_remove(val_to_remove):\n",
    "    if val_to_remove in books:\n",
    "        books.remove(val_to_remove)\n",
    "        print(f\"✅ {val_to_remove} remove from remove \")\n",
    "    else:\n",
    "        print(f\"❌ {val_to_remove} not found in list\")"
   ]
  },
  {
   "cell_type": "code",
   "execution_count": null,
   "metadata": {},
   "outputs": [],
   "source": [
    "safe_remove('The hero of ages')"
   ]
  },
  {
   "cell_type": "code",
   "execution_count": null,
   "metadata": {},
   "outputs": [],
   "source": [
    "books.pop()  # remove last element\n"
   ]
  },
  {
   "cell_type": "code",
   "execution_count": null,
   "metadata": {},
   "outputs": [],
   "source": [
    "output = books.pop(1)\n",
    "print(output)\n",
    "print(books)"
   ]
  },
  {
   "cell_type": "code",
   "execution_count": 43,
   "metadata": {},
   "outputs": [
    {
     "name": "stdout",
     "output_type": "stream",
     "text": [
      "[]\n"
     ]
    }
   ],
   "source": [
    "books.clear()\n",
    "print(books)"
   ]
  },
  {
   "cell_type": "code",
   "execution_count": 44,
   "metadata": {},
   "outputs": [
    {
     "name": "stdout",
     "output_type": "stream",
     "text": [
      "[]\n"
     ]
    }
   ],
   "source": [
    "x.clear()\n",
    "print(x)"
   ]
  },
  {
   "cell_type": "code",
   "execution_count": 45,
   "metadata": {},
   "outputs": [],
   "source": [
    "del a"
   ]
  },
  {
   "cell_type": "code",
   "execution_count": null,
   "metadata": {},
   "outputs": [],
   "source": []
  }
 ],
 "metadata": {
  "kernelspec": {
   "display_name": "base",
   "language": "python",
   "name": "python3"
  },
  "language_info": {
   "codemirror_mode": {
    "name": "ipython",
    "version": 3
   },
   "file_extension": ".py",
   "mimetype": "text/x-python",
   "name": "python",
   "nbconvert_exporter": "python",
   "pygments_lexer": "ipython3",
   "version": "3.11.4"
  },
  "orig_nbformat": 4
 },
 "nbformat": 4,
 "nbformat_minor": 2
}
