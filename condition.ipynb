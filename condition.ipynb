{
 "cells": [
  {
   "cell_type": "markdown",
   "metadata": {},
   "source": [
    "# Conditions\n",
    "# identation\n",
    "identation is the way to tell python that a block of code is related ta a control structure.\n",
    "This is done by identing the code with a tab or 4 sapces. The identation is removed when \n",
    "block ends.\n"
   ]
  },
  {
   "cell_type": "code",
   "execution_count": 2,
   "metadata": {},
   "outputs": [
    {
     "name": "stdout",
     "output_type": "stream",
     "text": [
      "x is greater than 3\n"
     ]
    }
   ],
   "source": [
    "x = 10\n",
    "if x > 3:\n",
    "    print(\"x is greater than 3\")"
   ]
  },
  {
   "cell_type": "code",
   "execution_count": 4,
   "metadata": {},
   "outputs": [],
   "source": [
    "if x < x - 3:\n",
    "    print('x is less than x - 3')\n"
   ]
  },
  {
   "cell_type": "code",
   "execution_count": 5,
   "metadata": {},
   "outputs": [
    {
     "name": "stdout",
     "output_type": "stream",
     "text": [
      "x is equal to 10\n",
      "x is greater than 10\n"
     ]
    }
   ],
   "source": [
    "if x == 5:\n",
    "    print(' x is equal to 5')\n",
    "if x == 10:\n",
    "    print('x is equal to 10')\n",
    "if x >= 10:\n",
    "    print('x is greater than 10')\n",
    "    "
   ]
  },
  {
   "cell_type": "code",
   "execution_count": 6,
   "metadata": {},
   "outputs": [
    {
     "name": "stdout",
     "output_type": "stream",
     "text": [
      "login successfull\n"
     ]
    }
   ],
   "source": [
    "username = input(\"enter the username\")\n",
    "password = input(\"enter password\")\n",
    "if username:\n",
    "    if password:\n",
    "        if username == 'Alex' and password == 'Alexa':\n",
    "            print(\"login successfull\")\n",
    "        else:\n",
    "            print(\"❌ login failed. \")\n",
    "    else:\n",
    "        print(\"🔑 password is empty\")\n",
    "else:\n",
    "    print(\"🤖 username is empty\")"
   ]
  },
  {
   "cell_type": "code",
   "execution_count": 10,
   "metadata": {},
   "outputs": [
    {
     "name": "stdout",
     "output_type": "stream",
     "text": [
      "i have no off day\n"
     ]
    }
   ],
   "source": [
    "offday = input((\"enter your offday \"))\n",
    "match(offday):\n",
    "    case 'Sunday':\n",
    "        print(\"Sunday is my day off\")\n",
    "    case 'Monday':\n",
    "        print(\"Monday is my day off\")\n",
    "    case 'Tuesday':\n",
    "        print(\"Tuesday is my day off\") \n",
    "    case 'Wednesday':\n",
    "        print(\"Wednesday is my day off\")\n",
    "    case 'Thursday':\n",
    "        print(\"Thursday is my day off\")\n",
    "    case 'Friday':\n",
    "        print(\"Friday is my day off\")\n",
    "    case 'Saturday':\n",
    "        print(\"Saturday is my day off\")\n",
    "    case _:\n",
    "        print(\"i have no off day\")  "
   ]
  }
 ],
 "metadata": {
  "kernelspec": {
   "display_name": "base",
   "language": "python",
   "name": "python3"
  },
  "language_info": {
   "codemirror_mode": {
    "name": "ipython",
    "version": 3
   },
   "file_extension": ".py",
   "mimetype": "text/x-python",
   "name": "python",
   "nbconvert_exporter": "python",
   "pygments_lexer": "ipython3",
   "version": "3.11.4"
  },
  "orig_nbformat": 4
 },
 "nbformat": 4,
 "nbformat_minor": 2
}
