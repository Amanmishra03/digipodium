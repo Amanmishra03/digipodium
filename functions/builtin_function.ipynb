{
 "cells": [
  {
   "cell_type": "markdown",
   "metadata": {},
   "source": [
    "# Builtin function\n",
    "\n",
    "- Builtin function\n",
    "  - print()\n",
    "  - input()\n",
    "  - type()\n",
    "- for casting data types\n",
    "  - int()\n",
    "  - float()\n",
    "  - str()\n",
    "  - bool()\n",
    "  - list()\n",
    "  - tuple()\n",
    "  - set()\n",
    "  - dict()\n",
    "- for statics\n",
    "  - len()\n",
    "  - max()\n",
    "  - min()\n",
    "  - sum()\n",
    "- utility\n",
    "  - sorted()\n",
    "  - reversed()\n",
    "  - eval()\n",
    "  - exec()\n",
    "- operate on iterable\n",
    "  - all()\n",
    "  - any()\n",
    "  - enumerated()\n",
    "  - zip()\n",
    "  - filter()\n",
    "  - map()"
   ]
  },
  {
   "cell_type": "code",
   "execution_count": null,
   "metadata": {},
   "outputs": [],
   "source": [
    "x = ['A','B','N','Z','C','D']\n",
    "y = 'this is an example of string'\n",
    "print(sorted(x))"
   ]
  },
  {
   "cell_type": "code",
   "execution_count": null,
   "metadata": {},
   "outputs": [],
   "source": [
    "print(sorted(y))"
   ]
  },
  {
   "cell_type": "code",
   "execution_count": null,
   "metadata": {},
   "outputs": [],
   "source": [
    "sorted(x, reverse=True)"
   ]
  },
  {
   "cell_type": "code",
   "execution_count": null,
   "metadata": {},
   "outputs": [],
   "source": [
    "sorted(y.split(), reverse=True)"
   ]
  },
  {
   "cell_type": "code",
   "execution_count": null,
   "metadata": {},
   "outputs": [],
   "source": [
    "z = 'we are working on an '"
   ]
  },
  {
   "cell_type": "code",
   "execution_count": null,
   "metadata": {},
   "outputs": [],
   "source": [
    "reversed(z)"
   ]
  },
  {
   "cell_type": "code",
   "execution_count": null,
   "metadata": {},
   "outputs": [],
   "source": [
    "x = [0,0,0,0,0,0,0,0,0,0,0]\n",
    "print(all(x))"
   ]
  },
  {
   "cell_type": "code",
   "execution_count": null,
   "metadata": {},
   "outputs": [],
   "source": [
    "x = [1,1,1,1,1,1,1,1,1,1]\n",
    "print(all(x))"
   ]
  },
  {
   "cell_type": "code",
   "execution_count": null,
   "metadata": {},
   "outputs": [],
   "source": [
    "z = ['this','is','an','example','of','string']\n",
    "print(all(z))"
   ]
  },
  {
   "cell_type": "code",
   "execution_count": null,
   "metadata": {},
   "outputs": [],
   "source": [
    "x = [1,1,1,1,1,1,1]\n",
    "print(any(x))\n",
    "\n",
    "y = [0,0,0,0,0,0,0]\n",
    "print(any(y))\n",
    "\n",
    "z = [0,0,0,0,1,0,0,0]\n",
    "print(any(z))"
   ]
  },
  {
   "cell_type": "markdown",
   "metadata": {},
   "source": [
    "- math function\n",
    "f(x) = x**2 + x + 10\n",
    "f(5) = \n",
    "\n",
    "'g(x, y) = x**2 + y**2 + x*y + 10'"
   ]
  },
  {
   "cell_type": "code",
   "execution_count": null,
   "metadata": {},
   "outputs": [],
   "source": [
    "f = lambda i: i**2\n",
    "print(f)"
   ]
  },
  {
   "cell_type": "code",
   "execution_count": null,
   "metadata": {},
   "outputs": [],
   "source": [
    "f(25)"
   ]
  },
  {
   "cell_type": "code",
   "execution_count": null,
   "metadata": {},
   "outputs": [],
   "source": [
    "f = lambda x: x**2 + x + 10\n",
    "print(f(10))\n",
    "print(f(15))\n",
    "print(f(5))\n",
    "print(f(20))\n"
   ]
  },
  {
   "cell_type": "code",
   "execution_count": null,
   "metadata": {},
   "outputs": [],
   "source": [
    "data = [12,45,50,55,17,89,124,34,16]\n",
    "for val in data:\n",
    "    print(f(val))"
   ]
  },
  {
   "cell_type": "code",
   "execution_count": 21,
   "metadata": {},
   "outputs": [
    {
     "data": {
      "text/plain": [
       "<map at 0x2d8321573d0>"
      ]
     },
     "execution_count": 21,
     "metadata": {},
     "output_type": "execute_result"
    }
   ],
   "source": [
    "# map (function, iterable)\n",
    "map(f,data)"
   ]
  },
  {
   "cell_type": "code",
   "execution_count": 22,
   "metadata": {},
   "outputs": [
    {
     "data": {
      "text/plain": [
       "[166, 2080, 2560, 3090, 316, 8020, 15510, 1200, 282]"
      ]
     },
     "execution_count": 22,
     "metadata": {},
     "output_type": "execute_result"
    }
   ],
   "source": [
    "list(map(f, data))"
   ]
  },
  {
   "cell_type": "code",
   "execution_count": 23,
   "metadata": {},
   "outputs": [
    {
     "name": "stdout",
     "output_type": "stream",
     "text": [
      "[1, 2, 100, 300, 599]\n"
     ]
    }
   ],
   "source": [
    "num = ['1','2','100','300','599']\n",
    "clean_list = map(lambda i: int(i), num)\n",
    "print(list(clean_list))"
   ]
  },
  {
   "cell_type": "code",
   "execution_count": 24,
   "metadata": {},
   "outputs": [
    {
     "name": "stdout",
     "output_type": "stream",
     "text": [
      "[1, 2, 100, 300, 599]\n"
     ]
    }
   ],
   "source": [
    "clean_list = map(int, num)\n",
    "print(list(clean_list))"
   ]
  },
  {
   "cell_type": "code",
   "execution_count": 26,
   "metadata": {},
   "outputs": [
    {
     "data": {
      "text/plain": [
       "[1, 2, 1, 2, 1, 2, 1, 2, 1, 2, 1, 2, 1, 2, 1, 2, 1, 2, 1, 2, 2, 1, 1, 2]"
      ]
     },
     "execution_count": 26,
     "metadata": {},
     "output_type": "execute_result"
    }
   ],
   "source": [
    "num = [1,2,1,2,1,2,1,2,1,2,1,2,1,2,1,2,1,2,1,2,0,2,1,0,1,2]\n",
    "list(filter(lambda i: i != 0, num))"
   ]
  },
  {
   "cell_type": "code",
   "execution_count": 27,
   "metadata": {},
   "outputs": [
    {
     "data": {
      "text/plain": [
       "[0, 0]"
      ]
     },
     "execution_count": 27,
     "metadata": {},
     "output_type": "execute_result"
    }
   ],
   "source": [
    "num = [1,2,1,2,1,2,1,2,1,2,1,2,1,2,1,2,1,2,1,2,0,2,1,0,1,2]\n",
    "list(filter(lambda i: i == 0, num))"
   ]
  },
  {
   "cell_type": "code",
   "execution_count": null,
   "metadata": {},
   "outputs": [],
   "source": []
  }
 ],
 "metadata": {
  "kernelspec": {
   "display_name": "base",
   "language": "python",
   "name": "python3"
  },
  "language_info": {
   "codemirror_mode": {
    "name": "ipython",
    "version": 3
   },
   "file_extension": ".py",
   "mimetype": "text/x-python",
   "name": "python",
   "nbconvert_exporter": "python",
   "pygments_lexer": "ipython3",
   "version": "3.11.4"
  },
  "orig_nbformat": 4
 },
 "nbformat": 4,
 "nbformat_minor": 2
}
