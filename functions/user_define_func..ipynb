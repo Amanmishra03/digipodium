{
 "cells": [
  {
   "cell_type": "code",
   "execution_count": null,
   "metadata": {},
   "outputs": [],
   "source": [
    "def message():\n",
    "    print(\"good morning\")\n",
    "    \n",
    "message()"
   ]
  },
  {
   "cell_type": "code",
   "execution_count": null,
   "metadata": {},
   "outputs": [],
   "source": [
    "def si():\n",
    "    p = int(input(\"enter principal amount in Rs. \"))\n",
    "    r = float(input(\"enter rate of interest \"))\n",
    "    t = int(input(\"enter time in years \"))\n",
    "    si = p*r*t/100\n",
    "    print(f'simpleinterest is {si}')\n",
    "    \n",
    "si()"
   ]
  },
  {
   "cell_type": "markdown",
   "metadata": {},
   "source": [
    "requirements parameter"
   ]
  },
  {
   "cell_type": "code",
   "execution_count": null,
   "metadata": {},
   "outputs": [],
   "source": [
    "def hypotenuse (p, b):\n",
    "    h = (p**2 + b**2) **.5\n",
    "    print(f'hyp: {h}')\n",
    "    \n",
    "hypotenuse(30,40)"
   ]
  },
  {
   "cell_type": "code",
   "execution_count": null,
   "metadata": {},
   "outputs": [],
   "source": [
    "def hypotenuse (p:int, b:int):\n",
    "    '''this function take perpendicular and base to calculate \n",
    "    hypotenuse'''\n",
    "    h = (p**2 + b**2) **.5\n",
    "    print(f'hyp: {h}')"
   ]
  },
  {
   "cell_type": "code",
   "execution_count": null,
   "metadata": {},
   "outputs": [],
   "source": [
    "hypotenuse(12,15)"
   ]
  },
  {
   "cell_type": "code",
   "execution_count": null,
   "metadata": {},
   "outputs": [],
   "source": [
    "def summer(a,b,c,d):\n",
    "    print(a+b+c+d)\n",
    "    \n",
    "summer(12, 13,14,16)\n"
   ]
  },
  {
   "cell_type": "markdown",
   "metadata": {},
   "source": [
    "default parameters\n",
    "- always start giving "
   ]
  },
  {
   "cell_type": "code",
   "execution_count": null,
   "metadata": {},
   "outputs": [],
   "source": [
    "def summer(a,b,c=0,d=0):\n",
    "    print(a+b+c+d)\n",
    "    \n",
    "summer(120,30)"
   ]
  },
  {
   "cell_type": "code",
   "execution_count": null,
   "metadata": {},
   "outputs": [],
   "source": [
    "def summer(a,b,c=0,d=0):\n",
    "    print(a+b+c+d)\n",
    "    \n",
    "summer(10,20,30)"
   ]
  },
  {
   "cell_type": "code",
   "execution_count": null,
   "metadata": {},
   "outputs": [],
   "source": [
    "def area_circle(radius=1):\n",
    "     area = 22/7 * radius**2\n",
    "     print(area)\n",
    "     \n",
    "area_circle()\n",
    "area_circle(10)"
   ]
  },
  {
   "cell_type": "code",
   "execution_count": null,
   "metadata": {},
   "outputs": [],
   "source": [
    "summer(1,2,3,4)\n",
    "summer(a=1, b=2, c=3,d=4)\n",
    "summer(1,2,c=10,d=20)\n",
    "summer(1,2,d=20,c=10)\n",
    "summer(d=5,c=5,a=1,b=2)\n",
    "summer(12,12,d=5)\n",
    "area_circle(radius=10)"
   ]
  },
  {
   "cell_type": "markdown",
   "metadata": {},
   "source": [
    "VARIABLE ARGUMENTS"
   ]
  },
  {
   "cell_type": "code",
   "execution_count": null,
   "metadata": {},
   "outputs": [],
   "source": [
    "def mean(*data:int):\n",
    "    ans = sum(data)/len(data)\n",
    "    print(f'average: {ans}')\n",
    "    \n",
    "mean(1,2,3,4,56,6,8,9)"
   ]
  },
  {
   "cell_type": "code",
   "execution_count": null,
   "metadata": {},
   "outputs": [],
   "source": [
    "mean(5,5,6,6,2,5,8,8,5,2,1,4,8,4,5,5,5,5,5,5,5,5,1)"
   ]
  },
  {
   "cell_type": "code",
   "execution_count": null,
   "metadata": {},
   "outputs": [],
   "source": [
    "mean(1)"
   ]
  },
  {
   "cell_type": "markdown",
   "metadata": {},
   "source": [
    "variable keyword argument"
   ]
  },
  {
   "cell_type": "code",
   "execution_count": null,
   "metadata": {},
   "outputs": [],
   "source": [
    "def task(**details):\n",
    "    for name, value in details.items():\n",
    "        print(f'{name:10}{value}')\n",
    "        \n",
    "task(title=\"learn datatypes\",duration=\"1 day\", credit=\"1\")"
   ]
  },
  {
   "cell_type": "code",
   "execution_count": null,
   "metadata": {},
   "outputs": [],
   "source": [
    "task(name=\"Bring food\",\n",
    "     details=\"brinjall,potato,tomato\",\n",
    "     budget=200,\n",
    "     date=\"26-sep-2023\",\n",
    "     )\n"
   ]
  },
  {
   "cell_type": "markdown",
   "metadata": {},
   "source": [
    "function returning value"
   ]
  },
  {
   "cell_type": "code",
   "execution_count": null,
   "metadata": {},
   "outputs": [],
   "source": [
    "def hypotenuse (p:int, b:int):\n",
    "    '''this function take perpendicular and base to calculate \n",
    "    hypotenuse'''\n",
    "    h = (p**2 + b**2) **.5\n",
    "    # print(f'hyp: {h}')\n",
    "    return h"
   ]
  },
  {
   "cell_type": "code",
   "execution_count": null,
   "metadata": {},
   "outputs": [],
   "source": [
    "ans = hypotenuse(3,4)\n",
    "print(ans)"
   ]
  },
  {
   "cell_type": "code",
   "execution_count": null,
   "metadata": {},
   "outputs": [],
   "source": [
    "def cube_area(side):\n",
    "    return 6*side**2"
   ]
  },
  {
   "cell_type": "code",
   "execution_count": null,
   "metadata": {},
   "outputs": [],
   "source": [
    "cube_area(10)"
   ]
  },
  {
   "cell_type": "code",
   "execution_count": null,
   "metadata": {},
   "outputs": [],
   "source": [
    "def cube_volume(side):\n",
    "    return side**3"
   ]
  },
  {
   "cell_type": "code",
   "execution_count": null,
   "metadata": {},
   "outputs": [],
   "source": [
    "cv = cube_volume(10)\n",
    "ca = cube_volume(10)\n",
    "print(cv,ca)"
   ]
  },
  {
   "cell_type": "code",
   "execution_count": null,
   "metadata": {},
   "outputs": [],
   "source": [
    "x = cube_volume(10) + 20\n",
    "print(x)"
   ]
  },
  {
   "cell_type": "markdown",
   "metadata": {},
   "source": [
    "write to return the numbers of words in a string"
   ]
  },
  {
   "cell_type": "code",
   "execution_count": null,
   "metadata": {},
   "outputs": [],
   "source": [
    "string = input(\"enter a words \")\n",
    "def length():\n",
    "    cl = len(string)\n",
    "    return cl\n",
    "\n",
    "length()\n",
    "    "
   ]
  },
  {
   "cell_type": "code",
   "execution_count": null,
   "metadata": {},
   "outputs": [],
   "source": [
    "def word_count(data):\n",
    "    return len(data.split())    "
   ]
  },
  {
   "cell_type": "code",
   "execution_count": null,
   "metadata": {},
   "outputs": [],
   "source": [
    "words = word_count(\"this is a sample string of data\")\n",
    "print(f\"total words: {words}\")"
   ]
  },
  {
   "cell_type": "markdown",
   "metadata": {},
   "source": [
    "remove all vowels from a string using a function"
   ]
  },
  {
   "cell_type": "code",
   "execution_count": null,
   "metadata": {},
   "outputs": [],
   "source": [
    "words = input('enter the word ')\n",
    "def remove_vowel(content):\n",
    "    vowels = 'aeiouAEIOU'\n",
    "    for char in vowels:\n",
    "        content = content.replace(char,'')\n",
    "    return content\n",
    "    "
   ]
  },
  {
   "cell_type": "markdown",
   "metadata": {},
   "source": [
    "find all the indexes of a substring in a given string using a function"
   ]
  },
  {
   "cell_type": "code",
   "execution_count": 21,
   "metadata": {},
   "outputs": [],
   "source": [
    "def find_indexes(substr,content):\n",
    "    start_pos = 0\n",
    "    idx_list = []\n",
    "    for i in range (content.count(substr)):\n",
    "        idx = content.find(substr,start_pos)\n",
    "        if idx == 1:\n",
    "            break\n",
    "        idx_list.append(idx)\n",
    "        start_pos = idx+1\n",
    "    return idx_list"
   ]
  },
  {
   "cell_type": "code",
   "execution_count": 22,
   "metadata": {},
   "outputs": [
    {
     "data": {
      "text/plain": [
       "[8, 21, 28, 33, 42]"
      ]
     },
     "execution_count": 22,
     "metadata": {},
     "output_type": "execute_result"
    }
   ],
   "source": [
    "find_indexes('a','this is a content, that contains alot of a in itself')"
   ]
  },
  {
   "cell_type": "markdown",
   "metadata": {},
   "source": [
    "extract all bi-grams from a string using a function"
   ]
  },
  {
   "cell_type": "code",
   "execution_count": 24,
   "metadata": {},
   "outputs": [],
   "source": [
    "def bigrams(msg = \"one two three four\"):\n",
    "    words = msg.split()\n",
    "    f, s = 0,1\n",
    "    for i in range(len(words)):\n",
    "        if s == len(words):\n",
    "            break\n",
    "        print(words[f], words[s],end=' | ')\n",
    "        f += 1\n",
    "        s += 1\n",
    "        "
   ]
  },
  {
   "cell_type": "code",
   "execution_count": 25,
   "metadata": {},
   "outputs": [
    {
     "name": "stdout",
     "output_type": "stream",
     "text": [
      "one two | two three | three four | "
     ]
    }
   ],
   "source": [
    "bigrams()"
   ]
  },
  {
   "cell_type": "code",
   "execution_count": 27,
   "metadata": {},
   "outputs": [
    {
     "name": "stdout",
     "output_type": "stream",
     "text": [
      "this is | is a | a content, | content, that | that contains | contains alot | alot of | of a | a in | in itself | "
     ]
    }
   ],
   "source": [
    "bigrams('this is a content, that contains alot of a in itself')\n"
   ]
  },
  {
   "cell_type": "markdown",
   "metadata": {},
   "source": [
    "remove all the punctuation from a string"
   ]
  },
  {
   "cell_type": "code",
   "execution_count": null,
   "metadata": {},
   "outputs": [],
   "source": []
  }
 ],
 "metadata": {
  "kernelspec": {
   "display_name": "base",
   "language": "python",
   "name": "python3"
  },
  "language_info": {
   "codemirror_mode": {
    "name": "ipython",
    "version": 3
   },
   "file_extension": ".py",
   "mimetype": "text/x-python",
   "name": "python",
   "nbconvert_exporter": "python",
   "pygments_lexer": "ipython3",
   "version": "3.11.4"
  },
  "orig_nbformat": 4
 },
 "nbformat": 4,
 "nbformat_minor": 2
}
