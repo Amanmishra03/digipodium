{
 "cells": [
  {
   "cell_type": "code",
   "execution_count": null,
   "metadata": {},
   "outputs": [],
   "source": [
    "def message():\n",
    "    print(\"good morning\")\n",
    "    \n",
    "message()"
   ]
  },
  {
   "cell_type": "code",
   "execution_count": null,
   "metadata": {},
   "outputs": [],
   "source": [
    "def si():\n",
    "    p = int(input(\"enter principal amount in Rs. \"))\n",
    "    r = float(input(\"enter rate of interest \"))\n",
    "    t = int(input(\"enter time in years \"))\n",
    "    si = p*r*t/100\n",
    "    print(f'simpleinterest is {si}')\n",
    "    \n",
    "si()"
   ]
  },
  {
   "cell_type": "markdown",
   "metadata": {},
   "source": [
    "requirements parameter"
   ]
  },
  {
   "cell_type": "code",
   "execution_count": 6,
   "metadata": {},
   "outputs": [
    {
     "name": "stdout",
     "output_type": "stream",
     "text": [
      "hyp: 50.0\n"
     ]
    }
   ],
   "source": [
    "def hypotenuse (p, b):\n",
    "    h = (p**2 + b**2) **.5\n",
    "    print(f'hyp: {h}')\n",
    "    \n",
    "hypotenuse(30,40)"
   ]
  },
  {
   "cell_type": "code",
   "execution_count": null,
   "metadata": {},
   "outputs": [],
   "source": [
    "def hypotenuse (p:int, b:int):\n",
    "    '''this function take perpendicular and base to calculate \n",
    "    hypotenuse'''\n",
    "    h = (p**2 + b**2) **.5\n",
    "    print(f'hyp: {h}')"
   ]
  },
  {
   "cell_type": "code",
   "execution_count": 7,
   "metadata": {},
   "outputs": [
    {
     "name": "stdout",
     "output_type": "stream",
     "text": [
      "hyp: 19.209372712298546\n"
     ]
    }
   ],
   "source": [
    "hypotenuse(12,15)"
   ]
  },
  {
   "cell_type": "code",
   "execution_count": 9,
   "metadata": {},
   "outputs": [
    {
     "name": "stdout",
     "output_type": "stream",
     "text": [
      "55\n"
     ]
    }
   ],
   "source": [
    "def summer(a,b,c,d):\n",
    "    print(a+b+c+d)\n",
    "    \n",
    "summer(12, 13,14,16)\n"
   ]
  },
  {
   "cell_type": "code",
   "execution_count": 10,
   "metadata": {},
   "outputs": [
    {
     "name": "stdout",
     "output_type": "stream",
     "text": [
      "150\n"
     ]
    }
   ],
   "source": [
    "def summer(a,b,c=0,d=0):\n",
    "    print(a+b+c+d)\n",
    "    \n",
    "summer(120,30)"
   ]
  },
  {
   "cell_type": "code",
   "execution_count": 11,
   "metadata": {},
   "outputs": [
    {
     "name": "stdout",
     "output_type": "stream",
     "text": [
      "60\n"
     ]
    }
   ],
   "source": [
    "def summer(a,b,c=0,d=0):\n",
    "    print(a+b+c+d)\n",
    "    \n",
    "summer(10,20,30)"
   ]
  },
  {
   "cell_type": "code",
   "execution_count": null,
   "metadata": {},
   "outputs": [],
   "source": []
  }
 ],
 "metadata": {
  "kernelspec": {
   "display_name": "base",
   "language": "python",
   "name": "python3"
  },
  "language_info": {
   "codemirror_mode": {
    "name": "ipython",
    "version": 3
   },
   "file_extension": ".py",
   "mimetype": "text/x-python",
   "name": "python",
   "nbconvert_exporter": "python",
   "pygments_lexer": "ipython3",
   "version": "3.11.4"
  },
  "orig_nbformat": 4
 },
 "nbformat": 4,
 "nbformat_minor": 2
}
