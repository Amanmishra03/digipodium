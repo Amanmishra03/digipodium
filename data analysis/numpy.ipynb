{
 "cells": [
  {
   "cell_type": "markdown",
   "metadata": {},
   "source": [
    "# Numpy\n",
    "- create array\n",
    "- maths\n",
    "- operation"
   ]
  },
  {
   "cell_type": "code",
   "execution_count": 1,
   "metadata": {},
   "outputs": [
    {
     "name": "stdout",
     "output_type": "stream",
     "text": [
      "[[1, 2, 3], [3, 2, 1]]\n"
     ]
    }
   ],
   "source": [
    "x = [[1,2,3],[3,2,1]]\n",
    "print(x)"
   ]
  },
  {
   "cell_type": "markdown",
   "metadata": {},
   "source": [
    "without numpy doing maths(matrix maths) is very complex in any language"
   ]
  },
  {
   "cell_type": "code",
   "execution_count": 4,
   "metadata": {},
   "outputs": [],
   "source": [
    "import numpy as np"
   ]
  },
  {
   "cell_type": "code",
   "execution_count": 5,
   "metadata": {},
   "outputs": [
    {
     "name": "stdout",
     "output_type": "stream",
     "text": [
      "[[1 2 3]\n",
      " [3 4 5]]\n",
      "<class 'numpy.ndarray'>\n",
      "(2, 3)\n"
     ]
    }
   ],
   "source": [
    "x = np.array([[1,2,3],[3,4,5]])\n",
    "print(x)\n",
    "print(type(x))\n",
    "print(x.shape)\n"
   ]
  },
  {
   "cell_type": "code",
   "execution_count": 7,
   "metadata": {},
   "outputs": [
    {
     "name": "stdout",
     "output_type": "stream",
     "text": [
      "18\n",
      "[4 6 8]\n",
      "[ 6 12]\n"
     ]
    }
   ],
   "source": [
    "print(x.sum())\n",
    "print(x.sum(axis=0))\n",
    "print(x.sum(axis=1))"
   ]
  },
  {
   "cell_type": "code",
   "execution_count": 8,
   "metadata": {},
   "outputs": [
    {
     "name": "stdout",
     "output_type": "stream",
     "text": [
      "(3,) 1\n",
      "(3, 2) 2\n",
      "(1, 3, 2) 3\n"
     ]
    }
   ],
   "source": [
    "a = np.array([1,2,3])\n",
    "b = np.array([[1,1],[2,2],[3,3]])\n",
    "c = np.array([[[1,1],[2,2],[3,3]]])\n",
    "print(a.shape, a.ndim)\n",
    "print(b.shape, b.ndim)\n",
    "print(c.shape, c.ndim)"
   ]
  },
  {
   "cell_type": "markdown",
   "metadata": {},
   "source": [
    "# matrix creation \n",
    "- sequential\n",
    "     - arange\n",
    "     - linspace\n",
    "- random\n",
    "    - rand\n",
    "    - randint\n",
    "    - uniform"
   ]
  },
  {
   "cell_type": "code",
   "execution_count": 16,
   "metadata": {},
   "outputs": [
    {
     "name": "stdout",
     "output_type": "stream",
     "text": [
      "[ 1.   1.5  2.   2.5  3.   3.5  4.   4.5  5.   5.5  6.   6.5  7.   7.5\n",
      "  8.   8.5  9.   9.5 10.  10.5]\n",
      "[ 1.          1.52631579  2.05263158  2.57894737  3.10526316  3.63157895\n",
      "  4.15789474  4.68421053  5.21052632  5.73684211  6.26315789  6.78947368\n",
      "  7.31578947  7.84210526  8.36842105  8.89473684  9.42105263  9.94736842\n",
      " 10.47368421 11.        ]\n"
     ]
    }
   ],
   "source": [
    "x = np.arange(1, 11, .5)     # this make the gap of 0.5 and take the no. between 1 to 11\n",
    "print(x)\n",
    "\n",
    "y = np.linspace(1, 11, 20)\n",
    "print(y)"
   ]
  },
  {
   "cell_type": "code",
   "execution_count": 18,
   "metadata": {},
   "outputs": [
    {
     "data": {
      "text/plain": [
       "array([[ 1. ,  1.5,  2. ,  2.5],\n",
       "       [ 3. ,  3.5,  4. ,  4.5],\n",
       "       [ 5. ,  5.5,  6. ,  6.5],\n",
       "       [ 7. ,  7.5,  8. ,  8.5],\n",
       "       [ 9. ,  9.5, 10. , 10.5]])"
      ]
     },
     "execution_count": 18,
     "metadata": {},
     "output_type": "execute_result"
    }
   ],
   "source": [
    "np.arange(1, 11, .5).reshape(5,4)  # reshape to 4x5 matrix"
   ]
  },
  {
   "cell_type": "code",
   "execution_count": 23,
   "metadata": {},
   "outputs": [
    {
     "data": {
      "text/plain": [
       "array([[-3.14, -2.94, -2.74, -2.54, -2.34, -2.14, -1.94, -1.74],\n",
       "       [-1.54, -1.34, -1.14, -0.94, -0.74, -0.54, -0.34, -0.14],\n",
       "       [ 0.06,  0.26,  0.46,  0.66,  0.86,  1.06,  1.26,  1.46],\n",
       "       [ 1.66,  1.86,  2.06,  2.26,  2.46,  2.66,  2.86,  3.06]])"
      ]
     },
     "execution_count": 23,
     "metadata": {},
     "output_type": "execute_result"
    }
   ],
   "source": [
    "np.arange(-3.14,3.14, .2).reshape(4,8)"
   ]
  },
  {
   "cell_type": "code",
   "execution_count": 26,
   "metadata": {},
   "outputs": [
    {
     "data": {
      "text/plain": [
       "array([[0.2079756 ],\n",
       "       [0.06494741],\n",
       "       [0.1187498 ]])"
      ]
     },
     "execution_count": 26,
     "metadata": {},
     "output_type": "execute_result"
    }
   ],
   "source": [
    "a = np.random.rand(3,1)\n",
    "a"
   ]
  },
  {
   "cell_type": "code",
   "execution_count": 28,
   "metadata": {},
   "outputs": [],
   "source": [
    "np.set_printoptions(precision=2)"
   ]
  },
  {
   "cell_type": "code",
   "execution_count": 29,
   "metadata": {},
   "outputs": [
    {
     "name": "stdout",
     "output_type": "stream",
     "text": [
      "[[0 9 3]\n",
      " [2 6 6]\n",
      " [1 6 4]]\n"
     ]
    }
   ],
   "source": [
    "b = np.random.randint(0,10, (3,3))\n",
    "print(b)"
   ]
  },
  {
   "cell_type": "code",
   "execution_count": 30,
   "metadata": {},
   "outputs": [
    {
     "name": "stdout",
     "output_type": "stream",
     "text": [
      "[[3.8  8.57 2.8 ]\n",
      " [1.62 9.15 9.46]\n",
      " [2.43 0.68 5.99]]\n"
     ]
    }
   ],
   "source": [
    "c = np.random.uniform(0,10, (3,3))\n",
    "print(c)"
   ]
  },
  {
   "cell_type": "code",
   "execution_count": null,
   "metadata": {},
   "outputs": [],
   "source": []
  }
 ],
 "metadata": {
  "kernelspec": {
   "display_name": "base",
   "language": "python",
   "name": "python3"
  },
  "language_info": {
   "codemirror_mode": {
    "name": "ipython",
    "version": 3
   },
   "file_extension": ".py",
   "mimetype": "text/x-python",
   "name": "python",
   "nbconvert_exporter": "python",
   "pygments_lexer": "ipython3",
   "version": "3.11.4"
  }
 },
 "nbformat": 4,
 "nbformat_minor": 2
}
