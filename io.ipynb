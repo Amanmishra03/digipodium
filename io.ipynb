{
 "cells": [
  {
   "cell_type": "markdown",
   "metadata": {},
   "source": [
    "- print() -> output\n",
    "- input() -> input"
   ]
  },
  {
   "cell_type": "code",
   "execution_count": 6,
   "metadata": {},
   "outputs": [],
   "source": [
    "name = \"Aman mishra\"\n",
    "city = \"lucknow\""
   ]
  },
  {
   "cell_type": "code",
   "execution_count": 7,
   "metadata": {},
   "outputs": [
    {
     "name": "stdout",
     "output_type": "stream",
     "text": [
      "information about me\n",
      "Aman mishra\n",
      "lucknow\n"
     ]
    }
   ],
   "source": [
    "print(\"information about me\")\n",
    "print(name)\n",
    "print(city)"
   ]
  },
  {
   "cell_type": "code",
   "execution_count": 8,
   "metadata": {},
   "outputs": [
    {
     "name": "stdout",
     "output_type": "stream",
     "text": [
      "information about me Aman mishra lucknow\n"
     ]
    }
   ],
   "source": [
    "print(\"information about me\", name, city) "
   ]
  },
  {
   "cell_type": "code",
   "execution_count": 9,
   "metadata": {},
   "outputs": [
    {
     "name": "stdout",
     "output_type": "stream",
     "text": [
      "I am Aman mishra and i live in lucknow\n"
     ]
    }
   ],
   "source": [
    "print('I am', name, 'and i live in', city)"
   ]
  },
  {
   "cell_type": "code",
   "execution_count": 10,
   "metadata": {},
   "outputs": [
    {
     "name": "stdout",
     "output_type": "stream",
     "text": [
      "i am Aman mishra and i live in lucknow\n"
     ]
    }
   ],
   "source": [
    "print(f\"i am {name} and i live in {city}\")"
   ]
  },
  {
   "cell_type": "markdown",
   "metadata": {},
   "source": [
    "<!-- fromated string  -->\n",
    "these are special string in python, where we prepared f before the opening quote, making the string an f-string. we can then embed python expression directly inside the string. the expression are replaced with their value. "
   ]
  },
  {
   "cell_type": "code",
   "execution_count": 11,
   "metadata": {},
   "outputs": [],
   "source": [
    "n1 = \"amjad\"\n",
    "c1 = \"lucknow\"\n",
    "n2, c2 = \"amjad\", \"lko\"\n",
    "n3, c3 = 'bhupendra', 'lucknow'\n",
    "n4, c4 = 'aman', 'lucknow'"
   ]
  },
  {
   "cell_type": "code",
   "execution_count": 12,
   "metadata": {},
   "outputs": [
    {
     "name": "stdout",
     "output_type": "stream",
     "text": [
      "amjad lucknow\n",
      "amjad lko\n",
      "bhupendra lucknow\n",
      "aman lucknow\n"
     ]
    }
   ],
   "source": [
    "print(f'{n1} {c1}')\n",
    "print(f'{n2} {c2}')\n",
    "print(f'{n3} {c3}')\n",
    "print(f'{n4} {c4}')"
   ]
  },
  {
   "cell_type": "markdown",
   "metadata": {},
   "source": [
    "- for 15 length"
   ]
  },
  {
   "cell_type": "code",
   "execution_count": 13,
   "metadata": {},
   "outputs": [
    {
     "name": "stdout",
     "output_type": "stream",
     "text": [
      "amjad           lucknow\n",
      "amjad           lko\n",
      "bhupendra       lucknow\n",
      "aman            lucknow\n"
     ]
    }
   ],
   "source": [
    "print(f'{n1:15} {c1}')\n",
    "print(f'{n2:15} {c2}')\n",
    "print(f'{n3:15} {c3}')\n",
    "print(f'{n4:15} {c4}')"
   ]
  },
  {
   "cell_type": "markdown",
   "metadata": {},
   "source": [
    "- for right alignment"
   ]
  },
  {
   "cell_type": "code",
   "execution_count": 14,
   "metadata": {},
   "outputs": [
    {
     "name": "stdout",
     "output_type": "stream",
     "text": [
      "          amjad lucknow\n",
      "          amjad lko\n",
      "      bhupendra lucknow\n",
      "           aman lucknow\n"
     ]
    }
   ],
   "source": [
    "print(f'{n1:>15} {c1}')\n",
    "print(f'{n2:>15} {c2}')\n",
    "print(f'{n3:>15} {c3}')\n",
    "print(f'{n4:>15} {c4}')"
   ]
  },
  {
   "cell_type": "markdown",
   "metadata": {},
   "source": [
    "- for center alignment"
   ]
  },
  {
   "cell_type": "code",
   "execution_count": 15,
   "metadata": {},
   "outputs": [
    {
     "name": "stdout",
     "output_type": "stream",
     "text": [
      "     amjad      lucknow\n",
      "     amjad      lko\n",
      "   bhupendra    lucknow\n",
      "     aman       lucknow\n"
     ]
    }
   ],
   "source": [
    "print(f'{n1:^15} {c1}')\n",
    "print(f'{n2:^15} {c2}')\n",
    "print(f'{n3:^15} {c3}')\n",
    "print(f'{n4:^15} {c4}')"
   ]
  },
  {
   "cell_type": "markdown",
   "metadata": {},
   "source": [
    "text alignment\n",
    "- for left alignment <\n",
    "- for right alignment >\n",
    "- for center alignment ^"
   ]
  },
  {
   "cell_type": "code",
   "execution_count": 16,
   "metadata": {},
   "outputs": [
    {
     "name": "stdout",
     "output_type": "stream",
     "text": [
      "1.      amjad      lucknow\n",
      "2.      amjad      lko\n",
      "3.    bhupendra    lucknow\n",
      "4.      aman       lucknow\n"
     ]
    }
   ],
   "source": [
    "print(f'1. {n1:^15} {c1}')\n",
    "print(f'2. {n2:^15} {c2}')\n",
    "print(f'3. {n3:^15} {c3}')\n",
    "print(f'4. {n4:^15} {c4}')"
   ]
  },
  {
   "cell_type": "code",
   "execution_count": 17,
   "metadata": {},
   "outputs": [
    {
     "name": "stdout",
     "output_type": "stream",
     "text": [
      "amjad amjad bhupendra aman\n"
     ]
    }
   ],
   "source": [
    "print(n1, n2, n3, n4)"
   ]
  },
  {
   "cell_type": "code",
   "execution_count": 18,
   "metadata": {},
   "outputs": [
    {
     "name": "stdout",
     "output_type": "stream",
     "text": [
      "amjad\tamjad\tbhupendra\taman\n"
     ]
    }
   ],
   "source": [
    "print(n1, n2, n3, n4, sep='\\t')"
   ]
  },
  {
   "cell_type": "code",
   "execution_count": 19,
   "metadata": {},
   "outputs": [
    {
     "name": "stdout",
     "output_type": "stream",
     "text": [
      "amjad\n",
      "amjad\n",
      "bhupendra\n",
      "aman\n"
     ]
    }
   ],
   "source": [
    "print(n1, n2, n3, n4, sep='\\n')\n"
   ]
  },
  {
   "cell_type": "code",
   "execution_count": 20,
   "metadata": {},
   "outputs": [
    {
     "name": "stdout",
     "output_type": "stream",
     "text": [
      "amjad, amjad, bhupendra, aman\n"
     ]
    }
   ],
   "source": [
    "print(n1, n2, n3, n4, sep=', ')\n"
   ]
  },
  {
   "cell_type": "code",
   "execution_count": null,
   "metadata": {},
   "outputs": [],
   "source": []
  }
 ],
 "metadata": {
  "kernelspec": {
   "display_name": "base",
   "language": "python",
   "name": "python3"
  },
  "language_info": {
   "codemirror_mode": {
    "name": "ipython",
    "version": 3
   },
   "file_extension": ".py",
   "mimetype": "text/x-python",
   "name": "python",
   "nbconvert_exporter": "python",
   "pygments_lexer": "ipython3",
   "version": "3.11.4"
  },
  "orig_nbformat": 4
 },
 "nbformat": 4,
 "nbformat_minor": 2
}
