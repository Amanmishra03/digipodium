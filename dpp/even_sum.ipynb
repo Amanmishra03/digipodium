{
 "cells": [
  {
   "cell_type": "markdown",
   "metadata": {},
   "source": [
    "Write a program to find the sum of all even numbers between 1 and 100 using a for loop."
   ]
  },
  {
   "cell_type": "markdown",
   "metadata": {},
   "source": [
    "1.  Sum of even number using while loop."
   ]
  },
  {
   "cell_type": "code",
   "execution_count": 3,
   "metadata": {},
   "outputs": [
    {
     "name": "stdout",
     "output_type": "stream",
     "text": [
      "2 + 2 = 4\n",
      "4 + 4 = 8\n",
      "6 + 6 = 12\n",
      "8 + 8 = 16\n",
      "10 + 10 = 20\n",
      "12 + 12 = 24\n",
      "14 + 14 = 28\n",
      "16 + 16 = 32\n",
      "18 + 18 = 36\n",
      "20 + 20 = 40\n",
      "22 + 22 = 44\n",
      "24 + 24 = 48\n",
      "26 + 26 = 52\n",
      "28 + 28 = 56\n",
      "30 + 30 = 60\n",
      "32 + 32 = 64\n",
      "34 + 34 = 68\n",
      "36 + 36 = 72\n",
      "38 + 38 = 76\n",
      "40 + 40 = 80\n",
      "42 + 42 = 84\n",
      "44 + 44 = 88\n",
      "46 + 46 = 92\n",
      "48 + 48 = 96\n",
      "50 + 50 = 100\n",
      "52 + 52 = 104\n",
      "54 + 54 = 108\n",
      "56 + 56 = 112\n",
      "58 + 58 = 116\n",
      "60 + 60 = 120\n",
      "62 + 62 = 124\n",
      "64 + 64 = 128\n",
      "66 + 66 = 132\n",
      "68 + 68 = 136\n",
      "70 + 70 = 140\n",
      "72 + 72 = 144\n",
      "74 + 74 = 148\n",
      "76 + 76 = 152\n",
      "78 + 78 = 156\n",
      "80 + 80 = 160\n",
      "82 + 82 = 164\n",
      "84 + 84 = 168\n",
      "86 + 86 = 172\n",
      "88 + 88 = 176\n",
      "90 + 90 = 180\n",
      "92 + 92 = 184\n",
      "94 + 94 = 188\n",
      "96 + 96 = 192\n",
      "98 + 98 = 196\n",
      "100 + 100 = 200\n"
     ]
    }
   ],
   "source": [
    "i = 2\n",
    "while i<= 100:\n",
    "    if i % 2 == 0:\n",
    "        total = i + \n",
    "        print(f\"{i} + {i} = {i +=}\")\n",
    "        i += 2"
   ]
  }
 ],
 "metadata": {
  "kernelspec": {
   "display_name": "base",
   "language": "python",
   "name": "python3"
  },
  "language_info": {
   "codemirror_mode": {
    "name": "ipython",
    "version": 3
   },
   "file_extension": ".py",
   "mimetype": "text/x-python",
   "name": "python",
   "nbconvert_exporter": "python",
   "pygments_lexer": "ipython3",
   "version": "3.11.4"
  },
  "orig_nbformat": 4
 },
 "nbformat": 4,
 "nbformat_minor": 2
}
