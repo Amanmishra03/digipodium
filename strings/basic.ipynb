{
 "cells": [
  {
   "cell_type": "markdown",
   "metadata": {},
   "source": [
    "What you need to learn\n",
    "* 1. To create a string\n",
    "* 2. indexing and slicing\n",
    "* 3. string method\n",
    "*   - formatting method\n",
    "*   - validation methods\n",
    "*   - utility methods\n",
    "* 4. python built in function\n",
    "* *  - len()\n",
    "* *  - str()\n",
    "* *  - ord()\n",
    "* *  - chr()\n",
    "* *  - eval()\n"
   ]
  },
  {
   "cell_type": "code",
   "execution_count": null,
   "metadata": {},
   "outputs": [],
   "source": [
    "my_string = 'hello'\n",
    "print(my_string)\n",
    "\n",
    "my_string = \"hello\"\n",
    "print(my_string)\n",
    "\n",
    "my_string = '''hello'''\n",
    "print(my_string)\n",
    "\n",
    "# tripple code is used in multiple lines\n",
    "my_string = '''hello, welcome to\n",
    "                the world python '''\n",
    "print(my_string)"
   ]
  },
  {
   "cell_type": "code",
   "execution_count": null,
   "metadata": {},
   "outputs": [],
   "source": [
    "x = 'digipodium'\n",
    "print(x[1])\n"
   ]
  },
  {
   "cell_type": "code",
   "execution_count": null,
   "metadata": {},
   "outputs": [],
   "source": [
    "str = 'digipodium'\n",
    "print('str = ', str)\n",
    "\n",
    "# first character\n",
    "print('str[0]', str[0])\n",
    "\n",
    "# second character\n",
    "print('str[1]', str[1])\n",
    "\n",
    "# last character\n",
    "print('str[-1]', str[-1])\n",
    "\n",
    "# second last character\n",
    "print('str[-2]', str[-2])"
   ]
  },
  {
   "cell_type": "code",
   "execution_count": null,
   "metadata": {},
   "outputs": [],
   "source": [
    "x = \"education\"\n",
    "print(x)\n",
    "print(x[0])\n",
    "print(x[-1])\n",
    "print(x[4])\n",
    "\n",
    "print(x(0))\n"
   ]
  },
  {
   "cell_type": "markdown",
   "metadata": {},
   "source": [
    "Slicing"
   ]
  },
  {
   "cell_type": "code",
   "execution_count": 9,
   "metadata": {},
   "outputs": [
    {
     "name": "stdout",
     "output_type": "stream",
     "text": [
      "pod\n"
     ]
    }
   ],
   "source": [
    "s = 'digipodium'\n",
    "slice1 = s[4:7]\n",
    "print(slice1)"
   ]
  },
  {
   "cell_type": "code",
   "execution_count": 20,
   "metadata": {},
   "outputs": [
    {
     "name": "stdout",
     "output_type": "stream",
     "text": [
      "vi\n",
      "vijay\n",
      "vijay\n",
      "dinanath\n",
      "chauhan\n",
      "chauhan \n",
      "hauhan \n"
     ]
    }
   ],
   "source": [
    "name = \"vijay dinanath chauhan \"\n",
    "print(name[0] + name[1] )\n",
    "print(name[0:5])\n",
    "print(name[:5])\n",
    "\n",
    "print(name[6:14])\n",
    "print(name[15:22])\n",
    "print(name[-8:])\n",
    "print(name[16:])"
   ]
  },
  {
   "cell_type": "code",
   "execution_count": 23,
   "metadata": {},
   "outputs": [
    {
     "name": "stdout",
     "output_type": "stream",
     "text": [
      "35000\n",
      "35000\n",
      "35000\n"
     ]
    }
   ],
   "source": [
    "price = 'Rs.35000 only'\n",
    "print(int(price[3:8]))\n",
    "print(price[3:-5])\n",
    "print(price[3:3+5])"
   ]
  },
  {
   "cell_type": "code",
   "execution_count": 31,
   "metadata": {},
   "outputs": [
    {
     "name": "stdout",
     "output_type": "stream",
     "text": [
      "william\n",
      "19\n",
      "shakespeare\n",
      "peare\n",
      "shakes\n"
     ]
    }
   ],
   "source": [
    "word = \"william shakespeare\"\n",
    "print(word[:7])\n",
    "print(len(word))\n",
    "print(word[8:19])\n",
    "print(word[-5:])\n",
    "print(word[8:-5])"
   ]
  },
  {
   "cell_type": "markdown",
   "metadata": {},
   "source": [
    "slicing syntax\n",
    "var[start:stop]\n",
    "var[start:stop:step]"
   ]
  },
  {
   "cell_type": "code",
   "execution_count": 36,
   "metadata": {},
   "outputs": [
    {
     "name": "stdout",
     "output_type": "stream",
     "text": [
      "wlim\n",
      "eraepsekahs mailliw\n",
      "wlimsaepae\n"
     ]
    }
   ],
   "source": [
    "print(word[:7:2]) # start to 6 index, jump 2 index  at a time\n",
    "print(word[::-1])\n",
    "print(word[::2])"
   ]
  },
  {
   "cell_type": "code",
   "execution_count": 37,
   "metadata": {},
   "outputs": [
    {
     "name": "stdout",
     "output_type": "stream",
     "text": [
      "yajiv\n"
     ]
    }
   ],
   "source": [
    "print(name[:5:][::-1][:])"
   ]
  },
  {
   "cell_type": "code",
   "execution_count": 41,
   "metadata": {},
   "outputs": [
    {
     "name": "stdout",
     "output_type": "stream",
     "text": [
      "A\n",
      "ऽ\n",
      "N\n",
      "b\n"
     ]
    }
   ],
   "source": [
    "x = chr(65)\n",
    "print(x)\n",
    "\n",
    "x= chr(2365)\n",
    "print(x)\n",
    "\n",
    "x = chr(78)\n",
    "print(x)\n",
    "\n",
    "x = chr(98)\n",
    "print(x)"
   ]
  },
  {
   "cell_type": "code",
   "execution_count": 45,
   "metadata": {},
   "outputs": [
    {
     "name": "stdout",
     "output_type": "stream",
     "text": [
      "97\n",
      "65\n",
      "109\n",
      "123\n"
     ]
    }
   ],
   "source": [
    "y = ord('a')\n",
    "print(y)\n",
    "\n",
    "y = ord('A')\n",
    "print(y)\n",
    "\n",
    "y = ord('m')\n",
    "print(y)\n",
    "\n",
    "y = ord('{')\n",
    "print(y)"
   ]
  },
  {
   "cell_type": "code",
   "execution_count": 46,
   "metadata": {},
   "outputs": [
    {
     "name": "stdout",
     "output_type": "stream",
     "text": [
      "7\n",
      "5\n",
      "4\n"
     ]
    }
   ],
   "source": [
    "print(len('amazing'))\n",
    "print(len(\"world\"))\n",
    "size = len(\"hope\")\n",
    "print(size)"
   ]
  },
  {
   "cell_type": "code",
   "execution_count": 47,
   "metadata": {},
   "outputs": [
    {
     "name": "stdout",
     "output_type": "stream",
     "text": [
      "hi  there\n",
      "hihihihihi\n"
     ]
    }
   ],
   "source": [
    "# concatenation\n",
    "print('hi ' + ' ' + 'there')\n",
    " \n",
    "# duplication\n",
    "print('hi'*5)"
   ]
  }
 ],
 "metadata": {
  "kernelspec": {
   "display_name": "base",
   "language": "python",
   "name": "python3"
  },
  "language_info": {
   "codemirror_mode": {
    "name": "ipython",
    "version": 3
   },
   "file_extension": ".py",
   "mimetype": "text/x-python",
   "name": "python",
   "nbconvert_exporter": "python",
   "pygments_lexer": "ipython3",
   "version": "3.11.4"
  },
  "orig_nbformat": 4
 },
 "nbformat": 4,
 "nbformat_minor": 2
}
