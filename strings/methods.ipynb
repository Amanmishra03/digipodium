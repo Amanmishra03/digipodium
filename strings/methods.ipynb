{
 "cells": [
  {
   "cell_type": "markdown",
   "metadata": {},
   "source": [
    "# string methods\n",
    "- formatting\n",
    "  - upper()\n",
    "  - lower()\n",
    "  - capitalize()\n",
    "  - title()\n",
    "  - swapcase()\n",
    "  - casefold()\n",
    "- searching\n",
    "  - find()\n",
    "  - index()\n",
    "  - rfind()\n",
    "  - rindex()\n",
    "  - count()\n",
    "- validation\n",
    "  - isalpha()\n",
    "  - isalnum()\n",
    "  - isdigit()\n",
    "  - startswith()\n",
    "  - endswith()"
   ]
  },
  {
   "cell_type": "code",
   "execution_count": 1,
   "metadata": {},
   "outputs": [
    {
     "name": "stdout",
     "output_type": "stream",
     "text": [
      "THIS IS AN EXAMPLE OF A MESSAGE STRING\n"
     ]
    }
   ],
   "source": [
    "msg = \"this is an example of a message string\"\n",
    "print(msg.upper())"
   ]
  },
  {
   "cell_type": "code",
   "execution_count": 2,
   "metadata": {},
   "outputs": [
    {
     "data": {
      "text/plain": [
       "'THIS IS AN EXAMPLE OF A MESSAGE STRING'"
      ]
     },
     "execution_count": 2,
     "metadata": {},
     "output_type": "execute_result"
    }
   ],
   "source": [
    "msg_u = msg.upper()\n",
    "msg_u"
   ]
  },
  {
   "cell_type": "markdown",
   "metadata": {},
   "source": [
    "1. swapcase:- Convert uppercase characters to lowercase and lowercase characters to uppercase.\n",
    "2. casefol:- Return a version of the string suitable for caseless comparisons."
   ]
  },
  {
   "cell_type": "code",
   "execution_count": 3,
   "metadata": {},
   "outputs": [
    {
     "name": "stdout",
     "output_type": "stream",
     "text": [
      "this is an example of a message string\n",
      "This is an example of a message string\n",
      "This Is An Example Of A Message String\n",
      "THIS IS AN EXAMPLE OF A MESSAGE STRING\n",
      "this is an example of a message string\n",
      "THIS IS AN EXAMPLE OF A MESSAGE STRING\n"
     ]
    }
   ],
   "source": [
    "print(msg.lower())\n",
    "print(msg.capitalize())\n",
    "print(msg.title())\n",
    "print(msg.swapcase())\n",
    "print(msg.casefold())\n",
    "print(msg_u)\n",
    "\n",
    "\n"
   ]
  },
  {
   "cell_type": "code",
   "execution_count": 4,
   "metadata": {},
   "outputs": [
    {
     "data": {
      "text/plain": [
       "'this is an example of a message string'"
      ]
     },
     "execution_count": 4,
     "metadata": {},
     "output_type": "execute_result"
    }
   ],
   "source": [
    "msg"
   ]
  },
  {
   "cell_type": "code",
   "execution_count": 5,
   "metadata": {},
   "outputs": [
    {
     "data": {
      "text/plain": [
       "2"
      ]
     },
     "execution_count": 5,
     "metadata": {},
     "output_type": "execute_result"
    }
   ],
   "source": [
    "msg.find('is')"
   ]
  },
  {
   "cell_type": "code",
   "execution_count": 6,
   "metadata": {},
   "outputs": [
    {
     "data": {
      "text/plain": [
       "5"
      ]
     },
     "execution_count": 6,
     "metadata": {},
     "output_type": "execute_result"
    }
   ],
   "source": [
    "msg.find('is',3)"
   ]
  },
  {
   "cell_type": "code",
   "execution_count": null,
   "metadata": {},
   "outputs": [],
   "source": [
    "msg.find('is',6)"
   ]
  },
  {
   "cell_type": "code",
   "execution_count": null,
   "metadata": {},
   "outputs": [],
   "source": [
    "msg.index('is')"
   ]
  },
  {
   "cell_type": "code",
   "execution_count": null,
   "metadata": {},
   "outputs": [],
   "source": [
    "msg.rfind('is')"
   ]
  },
  {
   "cell_type": "code",
   "execution_count": null,
   "metadata": {},
   "outputs": [],
   "source": [
    "msg.count('b')"
   ]
  },
  {
   "cell_type": "code",
   "execution_count": null,
   "metadata": {},
   "outputs": [],
   "source": [
    "msg.count('t')"
   ]
  },
  {
   "cell_type": "code",
   "execution_count": null,
   "metadata": {},
   "outputs": [],
   "source": [
    "\"this that this that\".count('that')"
   ]
  },
  {
   "cell_type": "markdown",
   "metadata": {},
   "source": [
    "Validation function."
   ]
  },
  {
   "cell_type": "code",
   "execution_count": null,
   "metadata": {},
   "outputs": [],
   "source": [
    "name = 'vijay'\n",
    "print(name.isalpha())\n",
    "print(name.isdigit())\n",
    "print(name.isalnum())\n",
    "print(name.isupper())\n",
    "print(name.islower())\n",
    "print(name.istitle())"
   ]
  },
  {
   "cell_type": "code",
   "execution_count": null,
   "metadata": {},
   "outputs": [],
   "source": [
    "guests = ['Mr. Alex', 'Mrs. Gupta', 'Mr. Smith', 'Mr. Vijay', 'Mrs. Smith']\n",
    "\n",
    "for name in guests:\n",
    "    if name.startswith(\"Mr.\"):\n",
    "        print(f'Hello {name}')\n",
    "    elif name.startswith(\"Mrs.\"):\n",
    "        print(f'Hii {name}')\n",
    "    else:\n",
    "        print(\"yo\")\n",
    "        "
   ]
  },
  {
   "cell_type": "code",
   "execution_count": null,
   "metadata": {},
   "outputs": [],
   "source": [
    "files = ['file1.txt', 'file2.txt', 'file3.txt', \n",
    "         'file4.csv', 'file5.csv', 'file6.csv']\n",
    "\n",
    "for file in files:\n",
    "    if file.endswith('txt'): print(f\"{file} text\")\n",
    "    elif file.endswith('csv'): print(f\"{file} csv\")\n",
    "    else: print(f\"{file} unknown\")\n",
    "    "
   ]
  },
  {
   "cell_type": "code",
   "execution_count": 1,
   "metadata": {},
   "outputs": [],
   "source": [
    "poem = '''johny johny, yes papa\n",
    "eating sugar no papa,\n",
    "telling a lies no papa,\n",
    "open your mouth ha! ha! ha!'''"
   ]
  },
  {
   "cell_type": "code",
   "execution_count": 2,
   "metadata": {},
   "outputs": [
    {
     "data": {
      "text/plain": [
       "['johny',\n",
       " 'johny,',\n",
       " 'yes',\n",
       " 'papa',\n",
       " 'eating',\n",
       " 'sugar',\n",
       " 'no',\n",
       " 'papa,',\n",
       " 'telling',\n",
       " 'a',\n",
       " 'lies',\n",
       " 'no',\n",
       " 'papa,',\n",
       " 'open',\n",
       " 'your',\n",
       " 'mouth',\n",
       " 'ha!',\n",
       " 'ha!',\n",
       " 'ha!']"
      ]
     },
     "execution_count": 2,
     "metadata": {},
     "output_type": "execute_result"
    }
   ],
   "source": [
    "poem.split()"
   ]
  },
  {
   "cell_type": "code",
   "execution_count": 3,
   "metadata": {},
   "outputs": [
    {
     "data": {
      "text/plain": [
       "['johny johny, yes papa',\n",
       " 'eating sugar no papa,',\n",
       " 'telling a lies no papa,',\n",
       " 'open your mouth ha! ha! ha!']"
      ]
     },
     "execution_count": 3,
     "metadata": {},
     "output_type": "execute_result"
    }
   ],
   "source": [
    "poem.splitlines()"
   ]
  },
  {
   "cell_type": "code",
   "execution_count": 4,
   "metadata": {},
   "outputs": [
    {
     "data": {
      "text/plain": [
       "['johny johny',\n",
       " ' yes papa\\neating sugar no papa',\n",
       " '\\ntelling a lies no papa',\n",
       " '\\nopen your mouth ha! ha! ha!']"
      ]
     },
     "execution_count": 4,
     "metadata": {},
     "output_type": "execute_result"
    }
   ],
   "source": [
    "poem.split(\",\")"
   ]
  },
  {
   "cell_type": "code",
   "execution_count": 6,
   "metadata": {},
   "outputs": [
    {
     "name": "stdout",
     "output_type": "stream",
     "text": [
      "movie1\n",
      "song1\n",
      "image\n",
      "text101\n"
     ]
    }
   ],
   "source": [
    "files = ['movie1.mp4', 'song1.mp3', 'image.jpg', 'text101.txt']\n",
    "for f in files:\n",
    "    name = f.split('.')[0]\n",
    "    print(name)"
   ]
  },
  {
   "cell_type": "code",
   "execution_count": 7,
   "metadata": {},
   "outputs": [
    {
     "name": "stdout",
     "output_type": "stream",
     "text": [
      "mp4\n",
      "mp3\n",
      "jpg\n",
      "txt\n"
     ]
    }
   ],
   "source": [
    "files = ['movie1.mp4', 'song1.mp3', 'image.jpg', 'text101.txt']\n",
    "for f in files:\n",
    "    name = f.split('.')[-1]\n",
    "    print(name)"
   ]
  },
  {
   "cell_type": "code",
   "execution_count": 8,
   "metadata": {},
   "outputs": [
    {
     "data": {
      "text/plain": [
       "['movie1.mp4', 'song1.mp3', 'image.jpg', 'text101.txt']"
      ]
     },
     "execution_count": 8,
     "metadata": {},
     "output_type": "execute_result"
    }
   ],
   "source": [
    "files"
   ]
  },
  {
   "cell_type": "code",
   "execution_count": 9,
   "metadata": {},
   "outputs": [
    {
     "name": "stdout",
     "output_type": "stream",
     "text": [
      "movie1.mp4, song1.mp3, image.jpg, text101.txt\n"
     ]
    }
   ],
   "source": [
    "print(\", \".join(files))"
   ]
  },
  {
   "cell_type": "code",
   "execution_count": 10,
   "metadata": {},
   "outputs": [
    {
     "name": "stdout",
     "output_type": "stream",
     "text": [
      "c:/users/Aman/download/image.jpg\n"
     ]
    }
   ],
   "source": [
    "path = ['c:','users', 'Aman', 'download', 'image.jpg']\n",
    "print(\"/\".join(path))"
   ]
  },
  {
   "cell_type": "markdown",
   "metadata": {},
   "source": [
    "20 - sep - 2023"
   ]
  },
  {
   "cell_type": "code",
   "execution_count": 11,
   "metadata": {},
   "outputs": [
    {
     "name": "stdout",
     "output_type": "stream",
     "text": [
      " Vijay kumar  13\n",
      "Vijay kumar 11\n",
      "Vijay kumar  12\n",
      " Vijay kumar 12\n"
     ]
    }
   ],
   "source": [
    "# STRIP\n",
    "\n",
    "name = \" Vijay kumar \"\n",
    "clean_name = name.strip() # remove leading n trailing spaces both.\n",
    "name_1 = name.lstrip()  # leading spaces removed.\n",
    "name_2 = name.rstrip()  # trailing spaces removed.\n",
    "\n",
    "print(name, len(name))\n",
    "print(clean_name, len(clean_name))\n",
    "print(name_1, len(name_1))\n",
    "print(name_2, len(name_2))\n",
    "\n"
   ]
  },
  {
   "cell_type": "code",
   "execution_count": 12,
   "metadata": {},
   "outputs": [
    {
     "data": {
      "text/plain": [
       "'a simple object'"
      ]
     },
     "execution_count": 12,
     "metadata": {},
     "output_type": "execute_result"
    }
   ],
   "source": [
    "data = '''\n",
    "a simple object\n",
    "\n",
    "'''\n",
    "data.strip()"
   ]
  },
  {
   "cell_type": "code",
   "execution_count": 13,
   "metadata": {},
   "outputs": [
    {
     "data": {
      "text/plain": [
       "'Word Example'"
      ]
     },
     "execution_count": 13,
     "metadata": {},
     "output_type": "execute_result"
    }
   ],
   "source": [
    "content = '###############Word Example############'\n",
    "content.strip('#')"
   ]
  },
  {
   "cell_type": "code",
   "execution_count": null,
   "metadata": {},
   "outputs": [],
   "source": [
    "content = '######....##Word Example#####...#######'\n",
    "content.strip('#.')"
   ]
  },
  {
   "cell_type": "code",
   "execution_count": null,
   "metadata": {},
   "outputs": [],
   "source": [
    "msg = \"This is an example of content in a string\"\n",
    "msg.replace('a','e')"
   ]
  },
  {
   "cell_type": "code",
   "execution_count": null,
   "metadata": {},
   "outputs": [],
   "source": [
    "msg = \"This is an example of content in a string\"\n",
    "msg.replace('example', 'easy')"
   ]
  },
  {
   "cell_type": "code",
   "execution_count": null,
   "metadata": {},
   "outputs": [],
   "source": [
    "msg = \"This is an example of content in a string\"\n",
    "msg.replace('is', 'are')\n"
   ]
  },
  {
   "cell_type": "code",
   "execution_count": null,
   "metadata": {},
   "outputs": [],
   "source": [
    "msg = \"This is an example of content in a string\"\n",
    "msg.replace('this','that', 1).replace('is', 'was',).replace('in','within',1)"
   ]
  },
  {
   "cell_type": "code",
   "execution_count": null,
   "metadata": {},
   "outputs": [],
   "source": [
    "modified_msg = msg.replace(' is',' are')\n",
    "modified_msg"
   ]
  },
  {
   "cell_type": "markdown",
   "metadata": {},
   "source": [
    "Remove all the special characters and numbers from the following string"
   ]
  },
  {
   "cell_type": "code",
   "execution_count": null,
   "metadata": {},
   "outputs": [],
   "source": [
    "text = '%p34@y!*-*!t68h#&on404'\n",
    "ans = ''\n",
    "for char in text:\n",
    "    if char.isalpha():\n",
    "        ans+=char\n",
    "print(ans)"
   ]
  },
  {
   "cell_type": "code",
   "execution_count": null,
   "metadata": {},
   "outputs": [],
   "source": [
    "from string import punctuation, digits\n",
    "for p in punctuation+digits:\n",
    "    text = text.replace(p, '')\n",
    "print(text)"
   ]
  },
  {
   "cell_type": "code",
   "execution_count": null,
   "metadata": {},
   "outputs": [],
   "source": [
    "num = int(input(\"enter a number \"))\n",
    "perfect_sq = num*num\n",
    "print(perfect_sq)"
   ]
  },
  {
   "cell_type": "code",
   "execution_count": null,
   "metadata": {},
   "outputs": [],
   "source": [
    "user = input(\"enter your msg \")\n",
    "for users in user:\n",
    "    if users == 'a' or users=='e' or users=='i' or users=='o' or users=='u':\n",
    "        users.remove('a')"
   ]
  },
  {
   "cell_type": "code",
   "execution_count": null,
   "metadata": {},
   "outputs": [],
   "source": [
    "user = input(\"enter your msg \")\n",
    "vowel = 'a','e','i','o','u'\n",
    "if user == vowel:\n",
    "    user=user.replace(vowel)\n",
    "print(user)\n",
    "    "
   ]
  },
  {
   "cell_type": "code",
   "execution_count": null,
   "metadata": {},
   "outputs": [],
   "source": [
    "msg = input(\"enter msg \")\n",
    "for v in \"aeiouAEIOU\":\n",
    "    msg = msg.replace(v, '')\n",
    "print(msg)"
   ]
  },
  {
   "cell_type": "code",
   "execution_count": 14,
   "metadata": {},
   "outputs": [
    {
     "name": "stdout",
     "output_type": "stream",
     "text": [
      "A.S.\n",
      "J.H.\n",
      "R.M.\n",
      "A.K.\n",
      "V.K.\n"
     ]
    }
   ],
   "source": [
    "names = ['Alex Smith', 'John Howard', 'Ravi Mishra', 'Arti Kumari', 'Vivel Kapoor']\n",
    "for name in names:\n",
    "    fn, *_, ln = name.split()\n",
    "    print(f\"{fn[0]}.{ln[0]}.\")"
   ]
  },
  {
   "cell_type": "code",
   "execution_count": 1,
   "metadata": {},
   "outputs": [
    {
     "data": {
      "text/plain": [
       "['ajay', 'kumar', 'padhaku', 'garg']"
      ]
     },
     "execution_count": 1,
     "metadata": {},
     "output_type": "execute_result"
    }
   ],
   "source": [
    "name = 'ajay kumar padhaku garg'\n",
    "name.split()"
   ]
  },
  {
   "cell_type": "code",
   "execution_count": 2,
   "metadata": {},
   "outputs": [
    {
     "name": "stdout",
     "output_type": "stream",
     "text": [
      "ajay kumar ['padhaku', 'garg']\n"
     ]
    }
   ],
   "source": [
    "p1, p2, *p3 = name.split()\n",
    "print(p1, p2, p3)"
   ]
  },
  {
   "cell_type": "code",
   "execution_count": 3,
   "metadata": {},
   "outputs": [
    {
     "name": "stdout",
     "output_type": "stream",
     "text": [
      "ajay ['kumar', 'padhaku'] garg\n"
     ]
    }
   ],
   "source": [
    "p1, *_, p2 = name.split()\n",
    "print(p1,_,p2)"
   ]
  },
  {
   "cell_type": "code",
   "execution_count": 1,
   "metadata": {},
   "outputs": [
    {
     "name": "stdout",
     "output_type": "stream",
     "text": [
      "['this', 'is', 'a', 'paragraph', 'which', 'is', 'written', 'just', 'for', 'the', 'purpose', 'of', 'providing', 'content', 'to', 'let', 'the', 'average', 'word', 'length', 'be'] 21\n",
      "avg word length:  4.380952380952381\n"
     ]
    }
   ],
   "source": [
    "# average word length\n",
    "text = 'this is a paragraph which is written just for the purpose of providing content to let the average word length be'\n",
    "words = text.split()\n",
    "print(words,len(words))\n",
    "char = 0\n",
    "for word in words:\n",
    "    char+=len(word)\n",
    "print(\"avg word length: \",char/len(words))\n",
    "    "
   ]
  }
 ],
 "metadata": {
  "kernelspec": {
   "display_name": "base",
   "language": "python",
   "name": "python3"
  },
  "language_info": {
   "codemirror_mode": {
    "name": "ipython",
    "version": 3
   },
   "file_extension": ".py",
   "mimetype": "text/x-python",
   "name": "python",
   "nbconvert_exporter": "python",
   "pygments_lexer": "ipython3",
   "version": "3.11.5"
  },
  "orig_nbformat": 4
 },
 "nbformat": 4,
 "nbformat_minor": 2
}
