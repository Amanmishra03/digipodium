{
 "cells": [
  {
   "cell_type": "markdown",
   "metadata": {},
   "source": [
    "loops\n",
    "- for loop\n",
    "-  loop concepts\n",
    "-  break\n",
    "-  continue\n",
    "-  else\n",
    "-  enumerate\n",
    "-  zip"
   ]
  },
  {
   "cell_type": "code",
   "execution_count": null,
   "metadata": {},
   "outputs": [],
   "source": [
    "colors = ['red', 'green', 'yellow', 'blue', 'white', 'black'] \n",
    "for color in colors:\n",
    "    print(color)"
   ]
  },
  {
   "cell_type": "code",
   "execution_count": null,
   "metadata": {},
   "outputs": [],
   "source": [
    "for color in colors:\n",
    "    size = len(color)\n",
    "    print(f'{color:10} {size} chars')"
   ]
  },
  {
   "cell_type": "code",
   "execution_count": null,
   "metadata": {},
   "outputs": [],
   "source": [
    "for color in colors:\n",
    "    if 'e' in color:\n",
    "        print(color)"
   ]
  },
  {
   "cell_type": "code",
   "execution_count": null,
   "metadata": {},
   "outputs": [],
   "source": [
    "raw_data = ['Alex', 'Rahul', 'Sonu', 'monu', '', 'Ram', '', '']\n",
    "for name in raw_data:\n",
    "    print(name)"
   ]
  },
  {
   "cell_type": "code",
   "execution_count": null,
   "metadata": {},
   "outputs": [],
   "source": [
    "for name in raw_data:\n",
    "    if len(name)>0:\n",
    "        print(name)\n"
   ]
  },
  {
   "cell_type": "code",
   "execution_count": null,
   "metadata": {},
   "outputs": [],
   "source": [
    "for name in raw_data:\n",
    "    if not name:\n",
    "        continue\n",
    "    print(name)\n"
   ]
  },
  {
   "cell_type": "code",
   "execution_count": null,
   "metadata": {},
   "outputs": [],
   "source": [
    "numbers = [2,4,6,182,56,2,23,12,3,34,45,56]\n",
    "for i in numbers:\n",
    "    if i % 2 != 0:\n",
    "        break\n",
    "    print(i)"
   ]
  },
  {
   "cell_type": "markdown",
   "metadata": {},
   "source": [
    "Aggregation logic\n"
   ]
  },
  {
   "cell_type": "code",
   "execution_count": null,
   "metadata": {},
   "outputs": [],
   "source": [
    "total = 1\n",
    "for i in numbers:\n",
    "    # total *= i\n",
    "    total = total * i\n",
    "    # print(total)\n",
    "print(total\n",
    "      )"
   ]
  },
  {
   "cell_type": "code",
   "execution_count": null,
   "metadata": {},
   "outputs": [],
   "source": [
    "msg = 'this is a simple message with few words'\n",
    "# count the number of space using loop\n",
    "for char in msg:\n",
    "    print(char)"
   ]
  },
  {
   "cell_type": "code",
   "execution_count": 19,
   "metadata": {},
   "outputs": [
    {
     "name": "stdout",
     "output_type": "stream",
     "text": [
      "7 space found\n"
     ]
    }
   ],
   "source": [
    "msg = 'this is a simple message with few words'\n",
    "# count the number of space using loop\n",
    "count = 0\n",
    "for char in msg:\n",
    "    if char == ' ':\n",
    "        count += 1\n",
    "print(f'{count} space found')"
   ]
  },
  {
   "cell_type": "code",
   "execution_count": 20,
   "metadata": {},
   "outputs": [
    {
     "data": {
      "text/plain": [
       "7"
      ]
     },
     "execution_count": 20,
     "metadata": {},
     "output_type": "execute_result"
    }
   ],
   "source": [
    "msg.count(' ')"
   ]
  },
  {
   "cell_type": "code",
   "execution_count": 21,
   "metadata": {},
   "outputs": [
    {
     "name": "stdout",
     "output_type": "stream",
     "text": [
      "The final empire\n",
      "The well of ascension\n",
      "the hero of ages\n"
     ]
    }
   ],
   "source": [
    "books = ['The final empire','The well of ascension', 'the hero of ages']\n",
    "for book in books:\n",
    "    print(book)"
   ]
  },
  {
   "cell_type": "code",
   "execution_count": 22,
   "metadata": {},
   "outputs": [
    {
     "name": "stdout",
     "output_type": "stream",
     "text": [
      "0 The final empire\n",
      "1 The well of ascension\n",
      "2 the hero of ages\n"
     ]
    }
   ],
   "source": [
    "idx = 0\n",
    "for book in books:\n",
    "    print(f'{idx} {book}')\n",
    "    idx += 1"
   ]
  },
  {
   "cell_type": "code",
   "execution_count": 26,
   "metadata": {},
   "outputs": [
    {
     "name": "stdout",
     "output_type": "stream",
     "text": [
      "0 The final empire\n",
      "1 The well of ascension\n",
      "2 the hero of ages\n"
     ]
    }
   ],
   "source": [
    "for i in range (len(books)):\n",
    "    print(f\"{i} {books[i]}\")"
   ]
  },
  {
   "cell_type": "code",
   "execution_count": 25,
   "metadata": {},
   "outputs": [
    {
     "name": "stdout",
     "output_type": "stream",
     "text": [
      "0 The final empire\n",
      "1 The well of ascension\n",
      "2 the hero of ages\n"
     ]
    }
   ],
   "source": [
    "for idx, book in enumerate(books):\n",
    "    print(f\"{idx} {book}\")"
   ]
  },
  {
   "cell_type": "code",
   "execution_count": 27,
   "metadata": {},
   "outputs": [
    {
     "name": "stdout",
     "output_type": "stream",
     "text": [
      "Alex\n",
      "Alexa\n",
      "Alexis\n",
      "Alexander\n",
      "Bruno\n"
     ]
    }
   ],
   "source": [
    "names = [\n",
    "    'Alex', 'Alexa', 'Alexis', 'Alexander', 'Bruno',\n",
    "    'Brutus', 'Charles', 'Charlie'\n",
    "]\n",
    "\n",
    "for i , name in enumerate(names):\n",
    "    if i == 5: break\n",
    "    print(name)"
   ]
  }
 ],
 "metadata": {
  "kernelspec": {
   "display_name": "base",
   "language": "python",
   "name": "python3"
  },
  "language_info": {
   "codemirror_mode": {
    "name": "ipython",
    "version": 3
   },
   "file_extension": ".py",
   "mimetype": "text/x-python",
   "name": "python",
   "nbconvert_exporter": "python",
   "pygments_lexer": "ipython3",
   "version": "3.11.4"
  },
  "orig_nbformat": 4
 },
 "nbformat": 4,
 "nbformat_minor": 2
}
