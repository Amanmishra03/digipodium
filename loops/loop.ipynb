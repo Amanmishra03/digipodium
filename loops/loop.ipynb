{
 "cells": [
  {
   "cell_type": "markdown",
   "metadata": {},
   "source": [
    "loops\n",
    "- for loop\n",
    "-  loop concepts\n",
    "-  break\n",
    "-  continue\n",
    "-  else\n",
    "-  enumerate\n",
    "-  zip"
   ]
  },
  {
   "cell_type": "code",
   "execution_count": 2,
   "metadata": {},
   "outputs": [
    {
     "name": "stdout",
     "output_type": "stream",
     "text": [
      "red\n",
      "green\n",
      "yellow\n",
      "blue\n",
      "white\n",
      "black\n"
     ]
    }
   ],
   "source": [
    "colors = ['red', 'green', 'yellow', 'blue', 'white', 'black'] \n",
    "for color in colors:\n",
    "    print(color)"
   ]
  },
  {
   "cell_type": "code",
   "execution_count": 3,
   "metadata": {},
   "outputs": [
    {
     "name": "stdout",
     "output_type": "stream",
     "text": [
      "red        3 chars\n",
      "green      5 chars\n",
      "yellow     6 chars\n",
      "blue       4 chars\n",
      "white      5 chars\n",
      "black      5 chars\n"
     ]
    }
   ],
   "source": [
    "for color in colors:\n",
    "    size = len(color)\n",
    "    print(f'{color:10} {size} chars')"
   ]
  },
  {
   "cell_type": "code",
   "execution_count": null,
   "metadata": {},
   "outputs": [],
   "source": [
    "for color in colors:\n",
    "    if 'e' in color:\n",
    "        print(color)"
   ]
  },
  {
   "cell_type": "code",
   "execution_count": 5,
   "metadata": {},
   "outputs": [
    {
     "name": "stdout",
     "output_type": "stream",
     "text": [
      "Alex\n",
      "Rahul\n",
      "Sonu\n",
      "monu\n",
      "\n",
      "Ram\n",
      "\n",
      "\n"
     ]
    }
   ],
   "source": [
    "raw_data = ['Alex', 'Rahul', 'Sonu', 'monu', '', 'Ram', '', '']\n",
    "for name in raw_data:\n",
    "    print(name)"
   ]
  },
  {
   "cell_type": "code",
   "execution_count": 6,
   "metadata": {},
   "outputs": [
    {
     "name": "stdout",
     "output_type": "stream",
     "text": [
      "Alex\n",
      "Rahul\n",
      "Sonu\n",
      "monu\n",
      "Ram\n"
     ]
    }
   ],
   "source": [
    "for name in raw_data:\n",
    "    if len(name)>0:\n",
    "        print(name)\n"
   ]
  },
  {
   "cell_type": "code",
   "execution_count": 7,
   "metadata": {},
   "outputs": [
    {
     "name": "stdout",
     "output_type": "stream",
     "text": [
      "Alex\n",
      "Rahul\n",
      "Sonu\n",
      "monu\n",
      "Ram\n"
     ]
    }
   ],
   "source": [
    "for name in raw_data:\n",
    "    if not name:\n",
    "        continue\n",
    "    print(name)\n"
   ]
  },
  {
   "cell_type": "code",
   "execution_count": 8,
   "metadata": {},
   "outputs": [
    {
     "name": "stdout",
     "output_type": "stream",
     "text": [
      "2\n",
      "4\n",
      "6\n",
      "182\n",
      "56\n",
      "2\n"
     ]
    }
   ],
   "source": [
    "numbers = [2,4,6,182,56,2,23,12,3,34,45,56]\n",
    "for i in numbers:\n",
    "    if i % 2 != 0:\n",
    "        break\n",
    "    print(i)"
   ]
  },
  {
   "cell_type": "markdown",
   "metadata": {},
   "source": [
    "Aggregation logic\n"
   ]
  },
  {
   "cell_type": "code",
   "execution_count": null,
   "metadata": {},
   "outputs": [],
   "source": [
    "total = 1\n",
    "for i in numbers:\n",
    "    # total *= i\n",
    "    total = total * i\n",
    "    # print(total)\n",
    "print(total\n",
    "      )"
   ]
  },
  {
   "cell_type": "code",
   "execution_count": null,
   "metadata": {},
   "outputs": [],
   "source": [
    "msg = 'this is a simple message with few words'\n",
    "# count the number of space using loop\n",
    "for char in msg:\n",
    "    print(char)"
   ]
  },
  {
   "cell_type": "code",
   "execution_count": null,
   "metadata": {},
   "outputs": [],
   "source": [
    "msg = 'this is a simple message with few words'\n",
    "# count the number of space using loop\n",
    "count = 0\n",
    "for char in msg:\n",
    "    if char == ' ':\n",
    "        count += 1\n",
    "print(f'{count} space found')"
   ]
  },
  {
   "cell_type": "code",
   "execution_count": null,
   "metadata": {},
   "outputs": [],
   "source": [
    "msg.count(' ')"
   ]
  },
  {
   "cell_type": "code",
   "execution_count": null,
   "metadata": {},
   "outputs": [],
   "source": [
    "books = ['The final empire','The well of ascension', 'the hero of ages']\n",
    "for book in books:\n",
    "    print(book)"
   ]
  },
  {
   "cell_type": "code",
   "execution_count": null,
   "metadata": {},
   "outputs": [],
   "source": [
    "idx = 0\n",
    "for book in books:\n",
    "    print(f'{idx} {book}')\n",
    "    idx += 1"
   ]
  },
  {
   "cell_type": "code",
   "execution_count": null,
   "metadata": {},
   "outputs": [],
   "source": [
    "for i in range (len(books)):\n",
    "    print(f\"{i} {books[i]}\")"
   ]
  },
  {
   "cell_type": "code",
   "execution_count": null,
   "metadata": {},
   "outputs": [],
   "source": [
    "for idx, book in enumerate(books):\n",
    "    print(f\"{idx} {book}\")"
   ]
  },
  {
   "cell_type": "code",
   "execution_count": null,
   "metadata": {},
   "outputs": [],
   "source": [
    "names = [\n",
    "    'Alex', 'Alexa', 'Alexis', 'Alexander', 'Bruno',\n",
    "    'Brutus', 'Charles', 'Charlie'\n",
    "]\n",
    "\n",
    "for i , name in enumerate(names):\n",
    "    if i == 5: break\n",
    "    print(name)"
   ]
  }
 ],
 "metadata": {
  "kernelspec": {
   "display_name": "base",
   "language": "python",
   "name": "python3"
  },
  "language_info": {
   "codemirror_mode": {
    "name": "ipython",
    "version": 3
   },
   "file_extension": ".py",
   "mimetype": "text/x-python",
   "name": "python",
   "nbconvert_exporter": "python",
   "pygments_lexer": "ipython3",
   "version": "3.11.4"
  },
  "orig_nbformat": 4
 },
 "nbformat": 4,
 "nbformat_minor": 2
}
