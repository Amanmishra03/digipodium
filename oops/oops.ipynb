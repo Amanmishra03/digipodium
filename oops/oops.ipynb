{
 "cells": [
  {
   "cell_type": "markdown",
   "metadata": {},
   "source": [
    "What to understand\n",
    "- class\n",
    "- object (instance)\n",
    "- constructor(--init--)\n",
    "- instance method \n",
    "- data class\n",
    "- inheritance\n",
    "  * overriding method\n",
    "  * multiple inheritance\n",
    "- operator overloading"
   ]
  },
  {
   "cell_type": "code",
   "execution_count": null,
   "metadata": {},
   "outputs": [],
   "source": [
    "class One:\n",
    "    pass"
   ]
  },
  {
   "cell_type": "code",
   "execution_count": 4,
   "metadata": {},
   "outputs": [],
   "source": [
    "class Student:\n",
    "    rollno = 0\n",
    "    name = \"\"\n",
    "    klass = 0\n",
    "    \n",
    "    def display(self):\n",
    "        print(\"i am student\")"
   ]
  },
  {
   "cell_type": "code",
   "execution_count": null,
   "metadata": {},
   "outputs": [],
   "source": [
    "help(Student)"
   ]
  },
  {
   "cell_type": "code",
   "execution_count": 7,
   "metadata": {},
   "outputs": [
    {
     "name": "stdout",
     "output_type": "stream",
     "text": [
      "i am student\n"
     ]
    }
   ],
   "source": [
    "s1 = Student()\n",
    "s1.name = \"Raj\"\n",
    "s1.klass = 5\n",
    "s1.rollno = 12903\n",
    "s1.display()\n",
    "\n",
    "s2 = Student()\n",
    "s2.name = \"raju\"\n",
    "s2.klass = 5\n",
    "s2.rollno = 12904\n",
    "\n"
   ]
  },
  {
   "cell_type": "code",
   "execution_count": 9,
   "metadata": {},
   "outputs": [],
   "source": [
    "# __method__ is called magic method (dunder method)\n",
    "class Bottle:\n",
    "    def __init__(self, material, content, capacity):\n",
    "        self.material = material\n",
    "        self. content = content\n",
    "        self.capacity = capacity\n",
    "        \n",
    "    def check (self):\n",
    "        print(f'{self.material} bottle with {self.capacity} ml of {self.content}')"
   ]
  },
  {
   "cell_type": "code",
   "execution_count": 11,
   "metadata": {},
   "outputs": [],
   "source": [
    "b1 = Bottle(\"plastic\",\"water\", 1000)\n",
    "b2 = Bottle(\"glass\", \"water\", 500)\n",
    "b3 = Bottle('steel', 'water', 2000)\n",
    "b4 = Bottle('glass', 'red wine', 1000)\n",
    "b5 = Bottle('glass', 'beer', 1000)"
   ]
  },
  {
   "cell_type": "code",
   "execution_count": 12,
   "metadata": {},
   "outputs": [
    {
     "name": "stdout",
     "output_type": "stream",
     "text": [
      "plastic water 1000\n"
     ]
    }
   ],
   "source": [
    "print(b1.material, b1.content, b1.capacity)"
   ]
  },
  {
   "cell_type": "code",
   "execution_count": 13,
   "metadata": {},
   "outputs": [
    {
     "name": "stdout",
     "output_type": "stream",
     "text": [
      "plastic bottle with 1000 ml of water\n",
      "glass bottle with 500 ml of water\n",
      "steel bottle with 2000 ml of water\n",
      "glass bottle with 1000 ml of red wine\n",
      "glass bottle with 1000 ml of beer\n"
     ]
    }
   ],
   "source": [
    "b1.check()\n",
    "b2.check()\n",
    "b3.check()\n",
    "b4.check()\n",
    "b5.check()\n"
   ]
  },
  {
   "cell_type": "code",
   "execution_count": 14,
   "metadata": {},
   "outputs": [
    {
     "name": "stdout",
     "output_type": "stream",
     "text": [
      "glass bottle with 500 ml of Malbec\n"
     ]
    }
   ],
   "source": [
    "b2.content = 'Malbec'\n",
    "b2.check()"
   ]
  },
  {
   "cell_type": "code",
   "execution_count": null,
   "metadata": {},
   "outputs": [],
   "source": [
    "class Calculator:\n",
    "    "
   ]
  }
 ],
 "metadata": {
  "kernelspec": {
   "display_name": "base",
   "language": "python",
   "name": "python3"
  },
  "language_info": {
   "codemirror_mode": {
    "name": "ipython",
    "version": 3
   },
   "file_extension": ".py",
   "mimetype": "text/x-python",
   "name": "python",
   "nbconvert_exporter": "python",
   "pygments_lexer": "ipython3",
   "version": "3.11.4"
  }
 },
 "nbformat": 4,
 "nbformat_minor": 2
}
