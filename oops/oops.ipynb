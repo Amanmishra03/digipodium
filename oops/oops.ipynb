{
 "cells": [
  {
   "cell_type": "markdown",
   "metadata": {},
   "source": [
    "What to understand\n",
    "- class\n",
    "- object (instance)\n",
    "- constructor(--init--)\n",
    "- instance method \n",
    "- data class\n",
    "- inheritance\n",
    "  * overriding method\n",
    "  * multiple inheritance\n",
    "- operator overloading"
   ]
  },
  {
   "cell_type": "code",
   "execution_count": null,
   "metadata": {},
   "outputs": [],
   "source": [
    "class One:\n",
    "    pass"
   ]
  },
  {
   "cell_type": "code",
   "execution_count": null,
   "metadata": {},
   "outputs": [],
   "source": [
    "class Student:\n",
    "    rollno = 0\n",
    "    name = \"\"\n",
    "    klass = 0\n",
    "    \n",
    "    def display(self):\n",
    "        print(\"i am student\")"
   ]
  },
  {
   "cell_type": "code",
   "execution_count": null,
   "metadata": {},
   "outputs": [],
   "source": [
    "help(Student)"
   ]
  },
  {
   "cell_type": "code",
   "execution_count": null,
   "metadata": {},
   "outputs": [],
   "source": [
    "s1 = Student()\n",
    "s1.name = \"Raj\"\n",
    "s1.klass = 5\n",
    "s1.rollno = 12903\n",
    "s1.display()\n",
    "\n",
    "s2 = Student()\n",
    "s2.name = \"raju\"\n",
    "s2.klass = 5\n",
    "s2.rollno = 12904\n",
    "\n"
   ]
  },
  {
   "cell_type": "code",
   "execution_count": null,
   "metadata": {},
   "outputs": [],
   "source": [
    "# __method__ is called magic method (dunder method)\n",
    "class Bottle:\n",
    "    def __init__(self, material, content, capacity):\n",
    "        self.material = material\n",
    "        self. content = content\n",
    "        self.capacity = capacity\n",
    "        \n",
    "    def check (self):\n",
    "        print(f'{self.material} bottle with {self.capacity} ml of {self.content}')"
   ]
  },
  {
   "cell_type": "code",
   "execution_count": null,
   "metadata": {},
   "outputs": [],
   "source": [
    "b1 = Bottle(\"plastic\",\"water\", 1000)\n",
    "b2 = Bottle(\"glass\", \"water\", 500)\n",
    "b3 = Bottle('steel', 'water', 2000)\n",
    "b4 = Bottle('glass', 'red wine', 1000)\n",
    "b5 = Bottle('glass', 'beer', 1000)"
   ]
  },
  {
   "cell_type": "code",
   "execution_count": null,
   "metadata": {},
   "outputs": [],
   "source": [
    "print(b1.material, b1.content, b1.capacity)"
   ]
  },
  {
   "cell_type": "code",
   "execution_count": null,
   "metadata": {},
   "outputs": [],
   "source": [
    "b1.check()\n",
    "b2.check()\n",
    "b3.check()\n",
    "b4.check()\n",
    "b5.check()\n"
   ]
  },
  {
   "cell_type": "code",
   "execution_count": null,
   "metadata": {},
   "outputs": [],
   "source": [
    "b2.content = 'Malbec'\n",
    "b2.check()"
   ]
  },
  {
   "cell_type": "markdown",
   "metadata": {},
   "source": [
    "Create a class calculator with following method \n",
    "- multiply\n",
    "- divide\n",
    "- exponent\n",
    "- add\n",
    "- subtract"
   ]
  },
  {
   "cell_type": "code",
   "execution_count": null,
   "metadata": {},
   "outputs": [],
   "source": [
    "class Calculator:\n",
    "    def multiply(self,a,b):\n",
    "        return a * b\n",
    "    def divide(self, a, b):\n",
    "        return a / b\n",
    "    def exponent(self, a,b):\n",
    "        return a ** b\n",
    "    def add(self, a,b):\n",
    "        return a + b\n",
    "    def subtract(self, a,b):\n",
    "        return a- b"
   ]
  },
  {
   "cell_type": "code",
   "execution_count": null,
   "metadata": {},
   "outputs": [],
   "source": [
    "c = Calculator()\n",
    "print(c.add(12,20))\n",
    "print(c.multiply(10,20))\n",
    "print(c.divide(10,2))"
   ]
  },
  {
   "cell_type": "code",
   "execution_count": null,
   "metadata": {},
   "outputs": [],
   "source": [
    "b1.check()"
   ]
  },
  {
   "cell_type": "code",
   "execution_count": null,
   "metadata": {},
   "outputs": [],
   "source": [
    "from dataclasses import dataclass"
   ]
  },
  {
   "cell_type": "code",
   "execution_count": null,
   "metadata": {},
   "outputs": [],
   "source": [
    "@dataclass\n",
    "class Recipe:\n",
    "    name : str\n",
    "    ingredient : list\n",
    "    instruction : str = \"no instruction\""
   ]
  },
  {
   "cell_type": "code",
   "execution_count": null,
   "metadata": {},
   "outputs": [],
   "source": [
    "help(Recipe)"
   ]
  },
  {
   "cell_type": "code",
   "execution_count": null,
   "metadata": {},
   "outputs": [],
   "source": [
    "@dataclass\n",
    "class BottleX:\n",
    "    material : str\n",
    "    content : str\n",
    "    capacity : int"
   ]
  },
  {
   "cell_type": "code",
   "execution_count": null,
   "metadata": {},
   "outputs": [],
   "source": [
    "r1 = Recipe(\"mac n cheese\",\n",
    "            [\"mac\", \"cheese\", \"milk\",\"butter\"])\n",
    "r2 = Recipe('mango shake', ['mango', 'milk'], \n",
    "            instruction=\"mix well\")\n",
    "\n",
    "print(r1)\n",
    "print(r2)\n",
    "print(r1.name)"
   ]
  },
  {
   "cell_type": "code",
   "execution_count": null,
   "metadata": {},
   "outputs": [],
   "source": [
    "class Person:\n",
    "    def __init__(self, name, age) -> None:\n",
    "        self.age = age\n",
    "        self.name = name\n",
    "        \n",
    "    def info(self):\n",
    "        print('Person details')\n",
    "        print(f'Name:{self.name}')\n",
    "        print(f'Age:{self.age}')"
   ]
  },
  {
   "cell_type": "code",
   "execution_count": null,
   "metadata": {},
   "outputs": [],
   "source": [
    "class Student(Person):\n",
    "    def __init__(self, name, age, school, klass) -> None:\n",
    "        super().__init__(name, age)\n",
    "        self.school = school\n",
    "        self.klass = klass"
   ]
  },
  {
   "cell_type": "code",
   "execution_count": null,
   "metadata": {},
   "outputs": [],
   "source": [
    "class ScienceStudent(Student):\n",
    "    def __init__(self, name, age, school, klass, subject=[]) -> None:\n",
    "        super().__init__(name, age, school, klass)\n",
    "        self.subject = subject"
   ]
  },
  {
   "cell_type": "code",
   "execution_count": null,
   "metadata": {},
   "outputs": [],
   "source": [
    "sc1 = ScienceStudent(\"ajay\",15,\"ABC inter\",11,\n",
    "                     ['physics','chemistry','maths'])\n",
    "sc1.info()"
   ]
  },
  {
   "cell_type": "code",
   "execution_count": null,
   "metadata": {},
   "outputs": [],
   "source": [
    "import sys\n",
    "\n",
    "class SuperList(list):\n",
    "    def gt(self, n):\n",
    "        return[x for x in self if x > n]\n",
    "    \n",
    "    def lt(self , n):\n",
    "        return[x for x in self if x < n]\n",
    "    \n",
    "    def extract(self, dtype=int):\n",
    "        return[x for x in self if isinstance(x, dtype)]\n",
    "    \n",
    "    def index(self, __value, __start = 0,  __stop =  sys.maxsize) -> int:\n",
    "        if __value in self:\n",
    "            return super().index(__value, __start, __stop)"
   ]
  },
  {
   "cell_type": "code",
   "execution_count": null,
   "metadata": {},
   "outputs": [],
   "source": [
    "a = SuperList([1,2,3,4,5])\n",
    "a.append(10)\n",
    "print(a)\n",
    "\n",
    "a.extend([11,12,13])\n",
    "print(a)\n",
    "\n",
    "a.gt(8)\n",
    "print(a)\n",
    "\n",
    "b = SuperList([1,2,3,4,5, 'a', 'b', 'c'])\n",
    "print(b.extract(str))\n",
    "print(b.extract())\n",
    "\n",
    "print(b.index(10))\n",
    "print(b.index(a))"
   ]
  },
  {
   "cell_type": "code",
   "execution_count": 1,
   "metadata": {},
   "outputs": [
    {
     "name": "stdout",
     "output_type": "stream",
     "text": [
      "True\n",
      "False\n",
      "None\n",
      "Bottle-plastic Bottle-glass Bottle-glass\n",
      "[Bottle-plastic(water), Bottle-glass(water), Bottle-steel(water), Bottle-glass(red wine), Bottle-glass(beer)]\n"
     ]
    }
   ],
   "source": [
    "# __method__ is called magic method (dunder method)\n",
    "class Bottle:\n",
    "    def __init__(self, material, content, capacity):\n",
    "        self.material = material\n",
    "        self. content = content\n",
    "        self.capacity = capacity\n",
    "        \n",
    "    def check (self):\n",
    "        print(f'{self.material} bottle with {self.capacity} ml of {self.content}')\n",
    "        \n",
    "    def __gt__(self, other):\n",
    "        if isinstance(other, Bottle):\n",
    "            return self.capacity > other.capacity\n",
    "        elif isinstance(other, (int, float)):\n",
    "            return self.capacity > other\n",
    "        \n",
    "    def __str__(self) -> str:\n",
    "        return f\"Bottle-{self.material}\"\n",
    "    \n",
    "    def __repr__(self) -> str:\n",
    "        return f\"Bottle-{self.material}({self.content})\"\n",
    "    \n",
    "           \n",
    "b1 = Bottle(\"plastic\",\"water\", 1000)\n",
    "b2 = Bottle(\"glass\", \"water\", 500)\n",
    "b3 = Bottle('steel', 'water', 2000)\n",
    "b4 = Bottle('glass', 'red wine', 1000)\n",
    "b5 = Bottle('glass', 'beer', 1000)\n",
    "\n",
    "print(b1>b2)\n",
    "print(b1>1500)\n",
    "print(b1>'a')\n",
    "print(b1, b2, b5) \n",
    "bottles = [b1, b2, b3, b4, b5] \n",
    "print(bottles)"
   ]
  },
  {
   "cell_type": "code",
   "execution_count": 2,
   "metadata": {},
   "outputs": [
    {
     "name": "stdout",
     "output_type": "stream",
     "text": [
      "orage\n",
      "nemo\n"
     ]
    }
   ],
   "source": [
    "class Fish:\n",
    "    def __init__(self, name, color, species):\n",
    "        self.name = name\n",
    "        self.color = color\n",
    "        self.species = species\n",
    "\n",
    "f1 = Fish('nemo', 'orage', 'clown fish')\n",
    "print(f1.color)\n",
    "print(f1.name)"
   ]
  },
  {
   "cell_type": "code",
   "execution_count": 3,
   "metadata": {},
   "outputs": [
    {
     "name": "stdout",
     "output_type": "stream",
     "text": [
      "Fish(name='nemo', color='orange', species='clown fish')\n",
      "Fish(name='dory', color='blue', species='blue tang')\n",
      "Fish(name='bruce', color='white', species='unknown')\n"
     ]
    }
   ],
   "source": [
    "from dataclasses import dataclass\n",
    "\n",
    "\n",
    "@dataclass\n",
    "class Fish:\n",
    "    name : str\n",
    "    color : str\n",
    "    species : str = 'unknown'\n",
    "\n",
    "f1 = Fish('nemo', 'orange', 'clown fish')\n",
    "f2 = Fish('dory', 'blue', 'blue tang')\n",
    "f3 = Fish('bruce','white')\n",
    "print(f1)\n",
    "print(f2)\n",
    "print(f3)"
   ]
  },
  {
   "cell_type": "code",
   "execution_count": 5,
   "metadata": {},
   "outputs": [],
   "source": [
    "class Item:\n",
    "    def __init__(self, name, weight) -> None:\n",
    "        self.name = name\n",
    "        self.weight = weight\n",
    "        \n",
    "class SpecialItem(Item):\n",
    "    def __init__(self, name, weight, speciality) -> None:\n",
    "        super().__init__(name, weight)\n",
    "        self.speciality = speciality\n",
    "        \n",
    "normal_item = Item(\"Items one\",10)\n",
    "special_item = SpecialItem(\"Item Two\", 6, \"light weight\")\n",
    "        "
   ]
  },
  {
   "cell_type": "code",
   "execution_count": null,
   "metadata": {},
   "outputs": [],
   "source": []
  }
 ],
 "metadata": {
  "kernelspec": {
   "display_name": "base",
   "language": "python",
   "name": "python3"
  },
  "language_info": {
   "codemirror_mode": {
    "name": "ipython",
    "version": 3
   },
   "file_extension": ".py",
   "mimetype": "text/x-python",
   "name": "python",
   "nbconvert_exporter": "python",
   "pygments_lexer": "ipython3",
   "version": "3.11.4"
  }
 },
 "nbformat": 4,
 "nbformat_minor": 2
}
